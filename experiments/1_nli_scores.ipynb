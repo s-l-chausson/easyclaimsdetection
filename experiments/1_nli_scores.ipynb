{
 "cells": [
  {
   "cell_type": "code",
   "execution_count": 1,
   "id": "6906a3f5-2ca0-40cc-9e4c-e2b94d2efe48",
   "metadata": {},
   "outputs": [],
   "source": [
    "import os\n",
    "os.chdir(\"..\")"
   ]
  },
  {
   "cell_type": "code",
   "execution_count": 9,
   "id": "d6038cb6-b33d-4767-8506-93123939a966",
   "metadata": {},
   "outputs": [],
   "source": [
    "import os\n",
    "import json\n",
    "import pandas as pd\n",
    "from tqdm import tqdm\n",
    "\n",
    "from transformers import pipeline\n",
    "import torch\n",
    "from torch.cuda import is_available"
   ]
  },
  {
   "cell_type": "code",
   "execution_count": null,
   "id": "fb1f54f4-83b3-47b5-be17-6bc1e980b2b3",
   "metadata": {},
   "outputs": [],
   "source": []
  },
  {
   "cell_type": "markdown",
   "id": "a6dd1754-c5dd-492b-9368-a2bbd3dc4ee0",
   "metadata": {},
   "source": [
    "# Get NLI scores"
   ]
  },
  {
   "cell_type": "code",
   "execution_count": 17,
   "id": "7a621cb0-f81b-4a43-bdf2-2d75126b2fa4",
   "metadata": {},
   "outputs": [],
   "source": [
    "config_list = [\n",
    "    {\n",
    "        'PATH': \"./data/climate_change/\",\n",
    "        'NAME': \"CCC\",\n",
    "        'SOURCE_COLUMN': \"text\",\n",
    "        'TARGET_COLUMN': 'FSL_BART',\n",
    "    }, {\n",
    "        'PATH': \"./data/topic_stance/\",\n",
    "        'NAME': \"TS_topic\",\n",
    "        'SOURCE_COLUMN': \"Tweet\",\n",
    "        'TARGET_COLUMN': 'FSL_BART_topic',\n",
    "    }, {\n",
    "        'PATH': \"./data/topic_stance/\",\n",
    "        'NAME': \"TS_stance\",\n",
    "        'SOURCE_COLUMN': \"Tweet\",\n",
    "        'TARGET_COLUMN': 'FSL_BART_stance',\n",
    "    }, {\n",
    "        'PATH': \"./data/depression/\",\n",
    "        'NAME': \"D_BART\",\n",
    "        'SOURCE_COLUMN': \"Sentence\",\n",
    "        'TARGET_COLUMN': 'FSL_BART',\n",
    "    }\n",
    "]"
   ]
  },
  {
   "cell_type": "code",
   "execution_count": 18,
   "id": "ad1fd728-88a4-45b6-ae9d-1f164f85ee99",
   "metadata": {},
   "outputs": [
    {
     "name": "stdout",
     "output_type": "stream",
     "text": [
      "\t* 0 :\t CCC\n",
      "\t* 1 :\t TS_topic\n",
      "\t* 2 :\t TS_stance\n",
      "\t* 3 :\t D_BART\n"
     ]
    }
   ],
   "source": [
    "for i, config in enumerate(config_list):\n",
    "    print('\\t*', i, ':\\t', config['NAME'])"
   ]
  },
  {
   "cell_type": "code",
   "execution_count": 19,
   "id": "b7e78498-9da7-42e8-9285-e911a314e26a",
   "metadata": {},
   "outputs": [
    {
     "name": "stdout",
     "output_type": "stream",
     "text": [
      "CCC\n"
     ]
    }
   ],
   "source": [
    "config_index = 0\n",
    "config = config_list[config_index]\n",
    "print(config['NAME'])"
   ]
  },
  {
   "cell_type": "code",
   "execution_count": null,
   "id": "933dddfa-04a9-4c27-b0af-ad2475e40608",
   "metadata": {},
   "outputs": [],
   "source": []
  },
  {
   "cell_type": "markdown",
   "id": "11fe2416-120c-4dcb-a650-052533087417",
   "metadata": {},
   "source": [
    "## Helper functions"
   ]
  },
  {
   "cell_type": "code",
   "execution_count": 15,
   "id": "cc08f139-8955-4ec9-a0f8-0a7d54a5a6a9",
   "metadata": {},
   "outputs": [],
   "source": [
    "class NLI_Classifier:\n",
    "\n",
    "    def __init__(self, traits, model_name, source_column='text', target_column='ZSL'):\n",
    "        if model_name is None:\n",
    "            model_name ='facebook/bart-large-mnli'\n",
    "        use_cuda = is_available()\n",
    "        if use_cuda:\n",
    "            print('Using GPU')\n",
    "            self.classifier = pipeline(\"zero-shot-classification\", model=model_name, device=0)\n",
    "        else:\n",
    "            self.classifier = pipeline(\"zero-shot-classification\", model=model_name)\n",
    "        self.source_column = source_column\n",
    "        self.target_column = target_column\n",
    "        self.traits = traits\n",
    "        if len(self.traits) > 60:\n",
    "            new_traits = list()\n",
    "            classes = sorted(list(set([t[:3] for t in self.traits])))\n",
    "            for c in classes:\n",
    "                new_traits.append({k:self.traits[k] for k in self.traits if k[:3] == c})\n",
    "            self.traits = new_traits\n",
    "        else:\n",
    "            self.traits = [self.traits]\n",
    "\n",
    "\n",
    "    def zsl_multi_classifier(self, sequence, context):\n",
    "        result_json = dict()\n",
    "        results = self.classifier(sequence, context, hypothesis_template=\"{}\", multi_label=True)\n",
    "        for label, score in zip(results['labels'], results['scores']):\n",
    "            result_json[label] = score\n",
    "        return result_json\n",
    "\n",
    "\n",
    "    def df_apply_ZSL(self, row):\n",
    "\n",
    "        results = dict()\n",
    "        for traits in self.traits:\n",
    "            results.update(self.zsl_multi_classifier(row[self.source_column], list(traits.values())))\n",
    "\n",
    "        row[self.target_column] = results\n",
    "        return row\n",
    "\n",
    "\n",
    "    def run(self, dataframe, out_file):\n",
    "        number_lines = len(dataframe)\n",
    "        chunksize = 12\n",
    "\n",
    "        if out_file is None:\n",
    "            out_file_valid = False\n",
    "\n",
    "        elif isinstance(out_file, str):\n",
    "            out_file_valid = True\n",
    "\n",
    "            if os.path.isfile(out_file):\n",
    "                already_done = pd.read_csv(out_file, names= COLUMNS + [self.target_column])\n",
    "                start_line = len(already_done)\n",
    "\n",
    "            else:\n",
    "                already_done = pd.DataFrame().reindex(columns=dataframe.columns)\n",
    "                start_line = 0\n",
    "\n",
    "        else:\n",
    "            print('ERROR: \"out_file\" is of the wrong type, expected str')\n",
    "\n",
    "        for i in tqdm(range(start_line, number_lines, chunksize)):\n",
    "\n",
    "            sub_df = dataframe.iloc[i: i + chunksize]\n",
    "            sub_df = sub_df.apply(self.df_apply_ZSL, axis=1)\n",
    "            already_done = already_done.append(sub_df)\n",
    "\n",
    "            if out_file_valid:\n",
    "                sub_df.to_csv(out_file, mode=\"a\", header=False)\n",
    "\n",
    "        return already_done"
   ]
  },
  {
   "cell_type": "code",
   "execution_count": null,
   "id": "ddfd8792-0cfa-44bf-b567-af7ae5ea50e6",
   "metadata": {},
   "outputs": [],
   "source": []
  },
  {
   "cell_type": "markdown",
   "id": "eeb85b26-bab2-4200-8038-b35841487050",
   "metadata": {},
   "source": [
    "## Load data"
   ]
  },
  {
   "cell_type": "code",
   "execution_count": 12,
   "id": "e673a5bc-4606-40bd-9fc2-1582faacd390",
   "metadata": {},
   "outputs": [],
   "source": [
    "train_df = pd.read_pickle(os.path.join(config['PATH'], 'training.pkl'))\n",
    "test_df = pd.read_pickle(os.path.join(config['PATH'], 'testing.pkl'))"
   ]
  },
  {
   "cell_type": "code",
   "execution_count": 10,
   "id": "4dc2ba45-0cff-470e-95cf-c66e28950c9d",
   "metadata": {},
   "outputs": [],
   "source": [
    "if config['NAME'] == \"TS_topic\": \n",
    "    with open(os.path.join(config['PATH'], 'claims_topic.json')) as file:\n",
    "        claims = json.load(file)\n",
    "        \n",
    "elif config['NAME'] == \"TS_stance\": \n",
    "    with open(os.path.join(config['PATH'], 'claims_stance.json')) as file:\n",
    "        claims = json.load(file)\n",
    "        \n",
    "else:\n",
    "    with open(os.path.join(config['PATH'], 'claims.json')) as file:\n",
    "        claims = json.load(file)\n",
    "\n",
    "class_descr = claims[\"class_descr\"]\n",
    "del claims[\"class_descr\"]"
   ]
  },
  {
   "cell_type": "code",
   "execution_count": 20,
   "id": "2c879f07-2774-4100-b674-265327bf11ba",
   "metadata": {},
   "outputs": [
    {
     "name": "stderr",
     "output_type": "stream",
     "text": [
      "Downloading model.safetensors: 100%|███████████████████████████████████████████| 1.63G/1.63G [01:36<00:00, 16.8MB/s]\n"
     ]
    }
   ],
   "source": [
    "classifier = NLI_Classifier(claims, None, source_column=config['SOURCE_COLUMN'], target_column=config['TARGET_COLUMN'])"
   ]
  },
  {
   "cell_type": "code",
   "execution_count": null,
   "id": "2586fa75-f81d-43c6-aa77-63666335e586",
   "metadata": {},
   "outputs": [],
   "source": []
  },
  {
   "cell_type": "markdown",
   "id": "5a915136-6423-4dda-ab11-fbfa65d7dfae",
   "metadata": {},
   "source": [
    "## Run NLI model"
   ]
  },
  {
   "cell_type": "code",
   "execution_count": null,
   "id": "2f896275-e144-45bb-87d6-85f3cda86164",
   "metadata": {},
   "outputs": [],
   "source": [
    "df_train_proc = classifier.run(df_train, os.path.join(config[\"PATH\", \"training.csv\"]))"
   ]
  },
  {
   "cell_type": "code",
   "execution_count": null,
   "id": "af87258e-a751-4744-a16e-6515f3960464",
   "metadata": {},
   "outputs": [],
   "source": [
    "df_test_proc = classifier.run(df_test, os.path.join(config[\"PATH\", \"testing.csv\"]))"
   ]
  },
  {
   "cell_type": "code",
   "execution_count": null,
   "id": "b0244a79-966a-4001-aee7-abfecf30bd4e",
   "metadata": {},
   "outputs": [],
   "source": []
  },
  {
   "cell_type": "markdown",
   "id": "700e7ef3-324d-444b-8f6f-d3b9c0b2b150",
   "metadata": {},
   "source": [
    "## Convert file to pickle"
   ]
  },
  {
   "cell_type": "code",
   "execution_count": null,
   "id": "8d14053f-7393-4de0-bbce-e8fbce5b5341",
   "metadata": {},
   "outputs": [],
   "source": [
    "df_train_proc = pd.read_csv(os.path.join(config[\"PATH\", \"training.csv\"]))"
   ]
  },
  {
   "cell_type": "code",
   "execution_count": null,
   "id": "9bc0cfac-ca3c-4976-b39a-d900645019af",
   "metadata": {},
   "outputs": [],
   "source": [
    "df_train_proc[config['TARGET_COLUMN']] = df_train_proc[config['TARGET_COLUMN']].apply(eval)"
   ]
  },
  {
   "cell_type": "code",
   "execution_count": null,
   "id": "2eaa390a-be27-466a-b84b-d0921de39682",
   "metadata": {},
   "outputs": [],
   "source": [
    "df_train_proc.to_pickle(os.path.join(config[\"PATH\", \"training.pkl\"]))"
   ]
  },
  {
   "cell_type": "code",
   "execution_count": null,
   "id": "3ec09204-c07a-4156-91ab-9a42fa63a862",
   "metadata": {},
   "outputs": [],
   "source": [
    "os.remove(os.path.join(config[\"PATH\", \"training.csv\"]))"
   ]
  },
  {
   "cell_type": "code",
   "execution_count": null,
   "id": "6dd58176-35a9-4504-a61a-75a56bcef428",
   "metadata": {},
   "outputs": [],
   "source": []
  },
  {
   "cell_type": "code",
   "execution_count": null,
   "id": "55ca5935-a03e-4ef7-872c-de4f776d2292",
   "metadata": {},
   "outputs": [],
   "source": [
    "df_test_proc = pd.read_csv(os.path.join(config[\"PATH\", \"testing.csv\"]))"
   ]
  },
  {
   "cell_type": "code",
   "execution_count": null,
   "id": "fb3c1f7e-2e3a-4f15-86f8-13a357bf8c1c",
   "metadata": {},
   "outputs": [],
   "source": [
    "df_test_proc[config['TARGET_COLUMN']] = df_test_proc[config['TARGET_COLUMN']].apply(eval)"
   ]
  },
  {
   "cell_type": "code",
   "execution_count": null,
   "id": "00023e94-5976-40c6-97b8-64192b823ffb",
   "metadata": {},
   "outputs": [],
   "source": [
    "df_test_proc.to_pickle(os.path.join(config[\"PATH\", \"testing.pkl\"]))"
   ]
  },
  {
   "cell_type": "code",
   "execution_count": null,
   "id": "127c3924-ed44-4d45-bae1-14d3165138da",
   "metadata": {},
   "outputs": [],
   "source": [
    "os.remove(os.path.join(config[\"PATH\", \"testing.csv\"]))"
   ]
  },
  {
   "cell_type": "code",
   "execution_count": null,
   "id": "2ba5da9f-4b34-4d26-828d-9bea8e058fd3",
   "metadata": {},
   "outputs": [],
   "source": []
  },
  {
   "cell_type": "code",
   "execution_count": null,
   "id": "21f4a110-a5a9-4102-9a67-70c3229b1804",
   "metadata": {},
   "outputs": [],
   "source": []
  }
 ],
 "metadata": {
  "kernelspec": {
   "display_name": "Python 3 (ipykernel)",
   "language": "python",
   "name": "python3"
  },
  "language_info": {
   "codemirror_mode": {
    "name": "ipython",
    "version": 3
   },
   "file_extension": ".py",
   "mimetype": "text/x-python",
   "name": "python",
   "nbconvert_exporter": "python",
   "pygments_lexer": "ipython3",
   "version": "3.9.7"
  }
 },
 "nbformat": 4,
 "nbformat_minor": 5
}
