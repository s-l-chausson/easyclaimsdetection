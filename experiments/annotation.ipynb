{
 "cells": [
  {
   "cell_type": "code",
   "execution_count": 1,
   "id": "60467867-b915-4921-83cb-2e732fdb193f",
   "metadata": {},
   "outputs": [
    {
     "data": {
      "text/plain": [
       "'/Users/sandrinechausson/Documents/easyclaimsdetection'"
      ]
     },
     "execution_count": 1,
     "metadata": {},
     "output_type": "execute_result"
    }
   ],
   "source": [
    "import os\n",
    "os.chdir('..')\n",
    "os.getcwd()"
   ]
  },
  {
   "cell_type": "code",
   "execution_count": 2,
   "id": "6f942794-2f01-40d1-be58-63fca21cbb43",
   "metadata": {},
   "outputs": [],
   "source": [
    "import json\n",
    "import pandas as pd\n",
    "from annotator import BissectionAnnotator"
   ]
  },
  {
   "cell_type": "markdown",
   "id": "694441b7-4bda-4fab-94e5-87abd9ee037b",
   "metadata": {},
   "source": [
    "# Active Learning annotation using the Probabilistic Bisection Algorithm"
   ]
  },
  {
   "cell_type": "code",
   "execution_count": 3,
   "id": "ff60c06b-a697-4abb-8552-c0effa86235a",
   "metadata": {},
   "outputs": [],
   "source": [
    "train_df = pd.read_pickle('./data/training.pkl')"
   ]
  },
  {
   "cell_type": "code",
   "execution_count": 4,
   "id": "ad92884f-1966-431a-b91b-579f1e132af9",
   "metadata": {},
   "outputs": [],
   "source": [
    "config_list = [\n",
    "    {\n",
    "        'NAME': 'BART',\n",
    "        'COLUMN_NAME': 'FSL_BART',\n",
    "        'START': 0,\n",
    "        'END': 1,\n",
    "        'P': 0.7,\n",
    "    }, {\n",
    "        'NAME': 'DistilBART',\n",
    "        'COLUMN_NAME': 'FSL_DistilBART',\n",
    "        'START': 0,\n",
    "        'END': 1,\n",
    "        'P': 0.7,\n",
    "    }, {\n",
    "        'NAME': 'DeBERTa',\n",
    "        'COLUMN_NAME': 'FSL_DeBERTa',\n",
    "        'START': 0,\n",
    "        'END': 1,\n",
    "        'P': 0.7,\n",
    "    }, {\n",
    "        'NAME': 'SBERT',\n",
    "        'COLUMN_NAME': 'sbert_cosine',\n",
    "        'START': -1,\n",
    "        'END': 1,\n",
    "        'P': 0.7,\n",
    "    }, {\n",
    "        'NAME': 'BART_top_2_avg',\n",
    "        'COLUMN_NAME': 'FSL_BART',\n",
    "        'START': 0,\n",
    "        'END': 1,\n",
    "        'P': 0.7,        \n",
    "    }, {\n",
    "        'NAME': 'BART_top_1_only',\n",
    "        'COLUMN_NAME': 'FSL_BART',\n",
    "        'START': 0,\n",
    "        'END': 1,\n",
    "        'P': 0.7,        \n",
    "    }, {\n",
    "        'NAME': 'BART_neg',\n",
    "        'COLUMN_NAME': 'FSL_BART_pos_and_neg',\n",
    "        'START': 0,\n",
    "        'END': 1,\n",
    "        'P': 0.7,       \n",
    "    }, {\n",
    "        'NAME': 'BART_0-6',\n",
    "        'COLUMN_NAME': 'FSL_BART',\n",
    "        'START': 0,\n",
    "        'END': 1,\n",
    "        'P': 0.6,\n",
    "    }, {\n",
    "        'NAME': 'BART_0-8',\n",
    "        'COLUMN_NAME': 'FSL_BART',\n",
    "        'START': 0,\n",
    "        'END': 1,\n",
    "        'P': 0.8,\n",
    "    }, {\n",
    "        'NAME': 'BART_0-9',\n",
    "        'COLUMN_NAME': 'FSL_BART',\n",
    "        'START': 0,\n",
    "        'END': 1,\n",
    "        'P': 0.9,        \n",
    "    }, {\n",
    "        'NAME': 'BART_extras',\n",
    "        'COLUMN_NAME': 'FSL_BART_extras',\n",
    "        'START': 0,\n",
    "        'END': 1,\n",
    "        'P': 0.7,\n",
    "    }\n",
    "]"
   ]
  },
  {
   "cell_type": "code",
   "execution_count": 5,
   "id": "7d852996-675c-4bac-8eb2-966bfd0457ce",
   "metadata": {},
   "outputs": [
    {
     "name": "stdout",
     "output_type": "stream",
     "text": [
      "\t* 0 :\t BART\n",
      "\t* 1 :\t DistilBART\n",
      "\t* 2 :\t DeBERTa\n",
      "\t* 3 :\t SBERT\n",
      "\t* 4 :\t BART_top_2_avg\n",
      "\t* 5 :\t BART_top_1_only\n",
      "\t* 6 :\t BART_neg\n",
      "\t* 7 :\t BART_0-6\n",
      "\t* 8 :\t BART_0-8\n",
      "\t* 9 :\t BART_0-9\n",
      "\t* 10 :\t BART_extras\n"
     ]
    }
   ],
   "source": [
    "for i, config in enumerate(config_list):\n",
    "    print('\\t*', i, ':\\t', config['NAME'])"
   ]
  },
  {
   "cell_type": "code",
   "execution_count": 6,
   "id": "3277ecdb-5650-4d82-b138-3b9ab4a98230",
   "metadata": {},
   "outputs": [
    {
     "name": "stdout",
     "output_type": "stream",
     "text": [
      "BART_neg\n"
     ]
    }
   ],
   "source": [
    "config_index = 6\n",
    "config = config_list[config_index]\n",
    "print(config['NAME'])"
   ]
  },
  {
   "cell_type": "markdown",
   "id": "05df77d5-0158-40db-a7aa-a91d85233224",
   "metadata": {},
   "source": [
    "## Load claims"
   ]
  },
  {
   "cell_type": "code",
   "execution_count": 13,
   "id": "f497f7e1-aece-4eb4-9056-a0b1594b5bb6",
   "metadata": {},
   "outputs": [],
   "source": [
    "with open('./data/claims/claims.json') as file:\n",
    "    claims = json.load(file)\n",
    "    \n",
    "if config['NAME'] == 'BART_extras':       \n",
    "    with open('./data/claims/claims_extras.json') as file:\n",
    "        claims_extras = json.load(file)\n",
    "    claims = {**claims, **claims_extras}\n",
    "    \n",
    "elif config['NAME'] == 'BART_neg':\n",
    "     with open('./data/claims/claims_neg.json') as file:\n",
    "        claims_neg = json.load(file)   "
   ]
  },
  {
   "cell_type": "code",
   "execution_count": 14,
   "id": "a155d0b3-dd29-4d7d-ad27-f828e8a652f1",
   "metadata": {},
   "outputs": [],
   "source": [
    "claims_descr = {\n",
    "    \"1_1\": \"Ice/permafrost/snow cover isn’t melting\",\n",
    "    \"1_2\": \"We’re heading into an ice age/global cooling\",\n",
    "    \"1_3\": \"Weather is cold/snowing\",\n",
    "    \"1_4\": \"Climate hasn’t warmed/changed over the last (few) decade(s)\",\n",
    "    \"1_6\": \"Sea level rise is exaggerated/not accelerating\",\n",
    "    \"1_7\": \"Extreme weather isn’t increasing/has happened before/isn’t linked to climate change\",\n",
    "}"
   ]
  },
  {
   "cell_type": "markdown",
   "id": "020190e6-64dc-4f97-8e79-1e583b2f1f40",
   "metadata": {},
   "source": [
    "## Normalise entailment scores for BART_neg"
   ]
  },
  {
   "cell_type": "code",
   "execution_count": 15,
   "id": "52575b2d-1970-45d5-8cef-f2b18b8bb9f3",
   "metadata": {},
   "outputs": [],
   "source": [
    "def normalise_nli_scores(row):\n",
    "    dict_pos = {k: row['FSL_BART'][claims[k]] for k in claims}\n",
    "    dict_neg = {k: row['FSL_BART_neg'][claims_neg[k]] for k in claims_neg}\n",
    "    new_dict = dict()\n",
    "    for k in dict_pos:\n",
    "        if dict_neg[k] > dict_pos[k]:\n",
    "            new_dict[claims[k]] = 0.0\n",
    "        else:\n",
    "            new_dict[claims[k]] = dict_pos[k]\n",
    "    return new_dict"
   ]
  },
  {
   "cell_type": "code",
   "execution_count": 18,
   "id": "7ee9ba74-cb53-4114-bd5a-dd9e499fdca5",
   "metadata": {},
   "outputs": [],
   "source": [
    "if config['NAME'] == 'BART_neg':\n",
    "    train_df[config['COLUMN_NAME']] = train_df.apply(normalise_nli_scores, axis=1)"
   ]
  },
  {
   "cell_type": "markdown",
   "id": "d9f5f87b-1666-4820-a92e-f500e81f1b30",
   "metadata": {},
   "source": [
    "## Annotate"
   ]
  },
  {
   "cell_type": "code",
   "execution_count": 19,
   "id": "4e0bc341-ce27-4921-99f4-a0b3d5fccbf5",
   "metadata": {},
   "outputs": [],
   "source": [
    "annotator = BissectionAnnotator(train_df, config['START'], config['END'], step=0.01, p=config['P'], level='class', sleep_time=1)"
   ]
  },
  {
   "cell_type": "code",
   "execution_count": 20,
   "id": "907f8393-087c-49a0-b0fa-463f82e5aeb7",
   "metadata": {},
   "outputs": [
    {
     "name": "stdout",
     "output_type": "stream",
     "text": [
      "===============================\n",
      "\n",
      "ANNOT NB: 4\n",
      "MEDIAN: 0.810\n",
      "\n",
      "INTERVAL: 0.100 - 0.990 \t==> WIDTH: 0.890\n",
      "TOTAL = 1.0000000000000004\n",
      "LEFT MASS = 0.488 \tRIGHT MASS = 0.512 \tTOTAL = 1.000\n",
      "\n"
     ]
    },
    {
     "data": {
      "image/png": "[encoded data removed]",
      "text/plain": [
       "<Figure size 432x288 with 1 Axes>"
      ]
     },
     "metadata": {
      "needs_background": "light"
     },
     "output_type": "display_data"
    },
    {
     "name": "stdout",
     "output_type": "stream",
     "text": [
      "\n",
      "SCORE:\t 0.804 (diff. = 0.006)\n",
      "\n",
      "TEXT:\n",
      "\n",
      "As you can see from the graph below global sea ice extent is nearly on average since 1979 according to satellite measurement.\n",
      "Arctic sea ice is slightly below average and Antarctic sea ice is above average. The total sea ice extent shows no obvious\n",
      "influence from global warming.\n",
      "\n",
      "\tCLAIM:\t The world's ice is not melting\n",
      "\n",
      "TRUE\n"
     ]
    },
    {
     "ename": "KeyboardInterrupt",
     "evalue": "",
     "output_type": "error",
     "traceback": [
      "\u001b[0;31m---------------------------------------------------------------------------\u001b[0m",
      "\u001b[0;31mKeyboardInterrupt\u001b[0m                         Traceback (most recent call last)",
      "Input \u001b[0;32mIn [20]\u001b[0m, in \u001b[0;36m<cell line: 1>\u001b[0;34m()\u001b[0m\n\u001b[1;32m      3\u001b[0m     \u001b[38;5;28;01mcontinue\u001b[39;00m\n\u001b[1;32m      4\u001b[0m claims_text \u001b[38;5;241m=\u001b[39m claims[claim_idx]\n\u001b[0;32m----> 5\u001b[0m df, threshold, prob_distr \u001b[38;5;241m=\u001b[39m \u001b[43mannotator\u001b[49m\u001b[43m(\u001b[49m\u001b[43mclaim_idx\u001b[49m\u001b[43m,\u001b[49m\u001b[43m \u001b[49m\u001b[43mclaims_text\u001b[49m\u001b[43m,\u001b[49m\u001b[43m \u001b[49m\u001b[43mclaim_idx\u001b[49m\u001b[43m[\u001b[49m\u001b[43m:\u001b[49m\u001b[38;5;241;43m3\u001b[39;49m\u001b[43m]\u001b[49m\u001b[43m,\u001b[49m\u001b[43m \u001b[49m\u001b[43mclaims_descr\u001b[49m\u001b[43m[\u001b[49m\u001b[43mclaim_idx\u001b[49m\u001b[43m[\u001b[49m\u001b[43m:\u001b[49m\u001b[38;5;241;43m3\u001b[39;49m\u001b[43m]\u001b[49m\u001b[43m]\u001b[49m\u001b[43m,\u001b[49m\u001b[43m \u001b[49m\u001b[43mcolumn\u001b[49m\u001b[38;5;241;43m=\u001b[39;49m\u001b[43mconfig\u001b[49m\u001b[43m[\u001b[49m\u001b[38;5;124;43m'\u001b[39;49m\u001b[38;5;124;43mCOLUMN_NAME\u001b[39;49m\u001b[38;5;124;43m'\u001b[39;49m\u001b[43m]\u001b[49m\u001b[43m)\u001b[49m\n",
      "File \u001b[0;32m~/Documents/easyclaimsdetection/annotator/bisection_annotator.py:427\u001b[0m, in \u001b[0;36mBissectionAnnotator.__call__\u001b[0;34m(self, claim_idx, claim_text, class_idx, class_text, column)\u001b[0m\n\u001b[1;32m    424\u001b[0m \u001b[38;5;28mself\u001b[39m\u001b[38;5;241m.\u001b[39mfs \u001b[38;5;241m=\u001b[39m [\u001b[38;5;28mself\u001b[39m\u001b[38;5;241m.\u001b[39mf\u001b[38;5;241m.\u001b[39mcopy()]\n\u001b[1;32m    426\u001b[0m \u001b[38;5;66;03m# Execute Probabilistic Bisection\u001b[39;00m\n\u001b[0;32m--> 427\u001b[0m tbc, early_stop \u001b[38;5;241m=\u001b[39m \u001b[38;5;28;43mself\u001b[39;49m\u001b[38;5;241;43m.\u001b[39;49m\u001b[43mprobabilistic_bisection\u001b[49m\u001b[43m(\u001b[49m\u001b[43m)\u001b[49m\n\u001b[1;32m    429\u001b[0m \u001b[38;5;66;03m# Save cache into dataframe\u001b[39;00m\n\u001b[1;32m    430\u001b[0m \u001b[38;5;28mself\u001b[39m\u001b[38;5;241m.\u001b[39mdf[class_idx \u001b[38;5;241m+\u001b[39m \u001b[38;5;124m'\u001b[39m\u001b[38;5;124m_annot\u001b[39m\u001b[38;5;124m'\u001b[39m] \u001b[38;5;241m=\u001b[39m \u001b[38;5;28mself\u001b[39m\u001b[38;5;241m.\u001b[39mdf[\u001b[38;5;124m'\u001b[39m\u001b[38;5;124mtext\u001b[39m\u001b[38;5;124m'\u001b[39m]\u001b[38;5;241m.\u001b[39mapply(\u001b[38;5;28;01mlambda\u001b[39;00m x: \u001b[38;5;124m'\u001b[39m\u001b[38;5;124m'\u001b[39m \u001b[38;5;28;01mif\u001b[39;00m \u001b[38;5;129;01mnot\u001b[39;00m x \u001b[38;5;129;01min\u001b[39;00m \u001b[38;5;28mself\u001b[39m\u001b[38;5;241m.\u001b[39mcache \u001b[38;5;28;01melse\u001b[39;00m (\u001b[38;5;241m1\u001b[39m \u001b[38;5;28;01mif\u001b[39;00m \u001b[38;5;28mself\u001b[39m\u001b[38;5;241m.\u001b[39mcache[x] \u001b[38;5;241m==\u001b[39m \u001b[38;5;241m1\u001b[39m \u001b[38;5;28;01melse\u001b[39;00m (\u001b[38;5;241m0\u001b[39m \u001b[38;5;28;01mif\u001b[39;00m \u001b[38;5;28mself\u001b[39m\u001b[38;5;241m.\u001b[39mcache[x] \u001b[38;5;241m==\u001b[39m \u001b[38;5;241m0\u001b[39m \u001b[38;5;28;01melse\u001b[39;00m \u001b[38;5;124m'\u001b[39m\u001b[38;5;124m'\u001b[39m)))\n",
      "File \u001b[0;32m~/Documents/easyclaimsdetection/annotator/bisection_annotator.py:327\u001b[0m, in \u001b[0;36mBissectionAnnotator.probabilistic_bisection\u001b[0;34m(self)\u001b[0m\n\u001b[1;32m    323\u001b[0m     \u001b[38;5;28;01mbreak\u001b[39;00m\n\u001b[1;32m    325\u001b[0m \u001b[38;5;28;01melse\u001b[39;00m:\n\u001b[1;32m    326\u001b[0m     \u001b[38;5;66;03m# Get annotation from \"oracle\" for the sampled datapoint\u001b[39;00m\n\u001b[0;32m--> 327\u001b[0m     z \u001b[38;5;241m=\u001b[39m \u001b[38;5;28;43mself\u001b[39;49m\u001b[38;5;241;43m.\u001b[39;49m\u001b[43mannotation_function\u001b[49m\u001b[43m(\u001b[49m\u001b[43mmedian\u001b[49m\u001b[43m,\u001b[49m\u001b[43m \u001b[49m\u001b[43mactual_median\u001b[49m\u001b[43m,\u001b[49m\u001b[43m \u001b[49m\u001b[43mtext\u001b[49m\u001b[43m)\u001b[49m\n\u001b[1;32m    329\u001b[0m \u001b[38;5;28;01mif\u001b[39;00m z \u001b[38;5;241m==\u001b[39m \u001b[38;5;124m'\u001b[39m\u001b[38;5;124mr\u001b[39m\u001b[38;5;124m'\u001b[39m:\n\u001b[1;32m    330\u001b[0m     \u001b[38;5;66;03m# Rollback to previous annotation\u001b[39;00m\n\u001b[1;32m    331\u001b[0m     \u001b[38;5;28mself\u001b[39m\u001b[38;5;241m.\u001b[39mfs\u001b[38;5;241m.\u001b[39mpop()\n",
      "File \u001b[0;32m~/Documents/easyclaimsdetection/annotator/bisection_annotator.py:204\u001b[0m, in \u001b[0;36mBissectionAnnotator.annotation_function\u001b[0;34m(self, median, score, text)\u001b[0m\n\u001b[1;32m    202\u001b[0m     \u001b[38;5;28;01mif\u001b[39;00m \u001b[38;5;28mself\u001b[39m\u001b[38;5;241m.\u001b[39mverbose \u001b[38;5;241m>\u001b[39m\u001b[38;5;241m=\u001b[39m \u001b[38;5;241m1\u001b[39m:\n\u001b[1;32m    203\u001b[0m         \u001b[38;5;28mprint\u001b[39m(\u001b[38;5;124m'\u001b[39m\u001b[38;5;124mTRUE\u001b[39m\u001b[38;5;124m'\u001b[39m)\n\u001b[0;32m--> 204\u001b[0m         \u001b[43mtime\u001b[49m\u001b[38;5;241;43m.\u001b[39;49m\u001b[43msleep\u001b[49m\u001b[43m(\u001b[49m\u001b[38;5;28;43mself\u001b[39;49m\u001b[38;5;241;43m.\u001b[39;49m\u001b[43msleep_time\u001b[49m\u001b[43m)\u001b[49m\n\u001b[1;32m    205\u001b[0m     \u001b[38;5;28;01mreturn\u001b[39;00m \u001b[38;5;28;01mTrue\u001b[39;00m\n\u001b[1;32m    206\u001b[0m \u001b[38;5;28;01melif\u001b[39;00m annot \u001b[38;5;241m==\u001b[39m \u001b[38;5;241m0\u001b[39m:\n",
      "\u001b[0;31mKeyboardInterrupt\u001b[0m: "
     ]
    }
   ],
   "source": [
    "for claim_idx in claims:\n",
    "    if not claim_idx[:3] in claims_descr:\n",
    "        continue\n",
    "    claims_text = claims[claim_idx]\n",
    "    df, threshold, prob_distr = annotator(claim_idx, claims_text, claim_idx[:3], claims_descr[claim_idx[:3]], column=config['COLUMN_NAME'])"
   ]
  },
  {
   "cell_type": "code",
   "execution_count": null,
   "id": "84172a87-b915-4b30-8890-7e985d719682",
   "metadata": {},
   "outputs": [],
   "source": []
  }
 ],
 "metadata": {
  "kernelspec": {
   "display_name": "Python 3 (ipykernel)",
   "language": "python",
   "name": "python3"
  },
  "language_info": {
   "codemirror_mode": {
    "name": "ipython",
    "version": 3
   },
   "file_extension": ".py",
   "mimetype": "text/x-python",
   "name": "python",
   "nbconvert_exporter": "python",
   "pygments_lexer": "ipython3",
   "version": "3.9.7"
  }
 },
 "nbformat": 4,
 "nbformat_minor": 5
}
