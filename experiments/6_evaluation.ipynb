{
 "cells": [
  {
   "cell_type": "code",
   "execution_count": 1,
   "id": "6908d60d-6fbc-4558-a99e-b7ceda5b3537",
   "metadata": {},
   "outputs": [],
   "source": [
    "import os\n",
    "os.chdir(\"..\")"
   ]
  },
  {
   "cell_type": "code",
   "execution_count": 2,
   "id": "e433cf8b-6b15-4e17-8959-480fccfb906d",
   "metadata": {},
   "outputs": [],
   "source": [
    "import json\n",
    "import math\n",
    "import pandas as pd\n",
    "import numpy as np\n",
    "from tqdm import tqdm\n",
    "import seaborn as sns\n",
    "import matplotlib.pyplot as plt\n",
    "from matplotlib.ticker import MaxNLocator\n",
    "from sklearn.metrics import classification_report, accuracy_score, f1_score, recall_score, precision_score"
   ]
  },
  {
   "cell_type": "code",
   "execution_count": 3,
   "id": "3b66b983-9ba0-49ec-a84e-4ecea1f0552b",
   "metadata": {},
   "outputs": [],
   "source": [
    "tqdm.pandas()"
   ]
  },
  {
   "cell_type": "code",
   "execution_count": null,
   "id": "9442c822-c4be-4a8d-8684-361e59129ceb",
   "metadata": {},
   "outputs": [],
   "source": []
  },
  {
   "cell_type": "markdown",
   "id": "27037f20-9c6d-47d4-9748-44ae40fa5e10",
   "metadata": {},
   "source": [
    "# Experiments from paper"
   ]
  },
  {
   "cell_type": "markdown",
   "id": "0b3a93a6-4c00-4444-8559-42dede9f34b1",
   "metadata": {},
   "source": [
    "## Helper functions"
   ]
  },
  {
   "cell_type": "code",
   "execution_count": 4,
   "id": "8d2fdacf-34cd-4110-8839-7ebe88cea32d",
   "metadata": {},
   "outputs": [],
   "source": [
    "def get_median(distr, start, end, step):\n",
    "    x = np.arange(start, end, step)\n",
    "    exp_f = np.exp(distr)\n",
    "    alpha = exp_f.sum() * 0.5\n",
    "    try:\n",
    "        median_low = x[exp_f.cumsum() <= alpha][-1]\n",
    "    except IndexError:\n",
    "        median_low = start\n",
    "    try:\n",
    "        median_high = x[::-1][exp_f[::-1].cumsum() < alpha][-1]\n",
    "    except IndexError:\n",
    "        median_high = end\n",
    "    median_avg = (median_low + median_high) / 2\n",
    "    return median_avg\n",
    "\n",
    "def get_thresholds_from_record(record, start=0, end=1, step=0.01):\n",
    "    thresholds = dict()\n",
    "    for claim in record:\n",
    "        thresholds[claim] = {'threshold': get_median(record[claim]['distributions'][-1], start, end, step)}\n",
    "    return thresholds\n",
    "\n",
    "def keep_only_top_claim(scores_dict):\n",
    "    new_dict = dict()\n",
    "    \n",
    "    for cl in CLASSES:\n",
    "        rel_claims = [t for t in claims if t[:3] == cl]\n",
    "        cl_dict = {t: scores_dict[t] for t in rel_claims}\n",
    "        highest_t = max(cl_dict, key = cl_dict.get)\n",
    "        for t in rel_claims:\n",
    "            if t == highest_t:\n",
    "                new_dict[t] = scores_dict[t]\n",
    "            else:\n",
    "                new_dict[t] = 0\n",
    "    return new_dict\n",
    "\n",
    "def get_multi_pred(row, column, claims_dict, thresholds=None, black_list=None, min_length=1):\n",
    "    if thresholds is None:\n",
    "        thresholds = {t: {'threshold': 0.0} for t in claims_dict}\n",
    "    if black_list is None:\n",
    "        black_list = []\n",
    "    result = list()\n",
    "    if isinstance(row[column], list):\n",
    "        zsl_scores = {k:row[column][0][claims_dict[k]] for k in claims_dict}\n",
    "    else:\n",
    "        zsl_scores = {k:row[column][claims_dict[k]] for k in claims_dict}\n",
    "    for c in CLASSES:\n",
    "        sub_pred = {k: zsl_scores[k] for k in zsl_scores if k[:3] == c and not k in black_list}\n",
    "        if len([k for k in sub_pred if sub_pred[k] > thresholds[k]['threshold']]) >= min_length:\n",
    "            result.append(1)\n",
    "        else:\n",
    "            result.append(0)\n",
    "    return result\n",
    "\n",
    "\n",
    "def get_binary_pred(row, claim_class, column, claims_dict, thresholds=None, black_list=None, min_length=1):\n",
    "    if thresholds is None:\n",
    "        thresholds = {t: {'threshold': 0.0} for t in claims_dict}\n",
    "    if black_list is None:\n",
    "        black_list = []\n",
    "    result = list()\n",
    "    if isinstance(row[column], list):\n",
    "        zsl_scores = {k:row[column][0][claims_dict[k]] for k in claims_dict}\n",
    "    else:\n",
    "        zsl_scores = {k:row[column][claims_dict[k]] for k in claims_dict}\n",
    "\n",
    "    sub_pred = {k: zsl_scores[k] for k in zsl_scores if k[:3] == claim_class and not k in black_list}\n",
    "    if len([k for k in sub_pred if sub_pred[k] > thresholds[k]['threshold']]) >= min_length:\n",
    "        return 1\n",
    "    else:\n",
    "        return 0"
   ]
  },
  {
   "cell_type": "markdown",
   "id": "2f064246-2dc7-45a3-ac66-9724518d1195",
   "metadata": {
    "tags": []
   },
   "source": [
    "## 1: Evaluation against baselines"
   ]
  },
  {
   "cell_type": "markdown",
   "id": "a224a128-1c5b-410d-823c-ea2b37eb276c",
   "metadata": {
    "tags": []
   },
   "source": [
    "### Climate Change Contrarianism detection"
   ]
  },
  {
   "cell_type": "code",
   "execution_count": 34,
   "id": "4349c3d7-31fe-4b52-9163-f4f3b38b8182",
   "metadata": {},
   "outputs": [],
   "source": [
    "test_df = pd.read_pickle('./data/climate_change/testing.pkl')"
   ]
  },
  {
   "cell_type": "code",
   "execution_count": 35,
   "id": "35bb3b44-80ac-4a3e-a06a-86cbd2457a79",
   "metadata": {},
   "outputs": [],
   "source": [
    "CLASSES = ['1_1', '1_2', '1_3', '1_4', '1_6', '1_7']"
   ]
  },
  {
   "cell_type": "code",
   "execution_count": 36,
   "id": "4095a39c-ce30-496d-a648-2423e9545794",
   "metadata": {},
   "outputs": [],
   "source": [
    "with open(\"./data/climate_change/claims.json\") as file:\n",
    "    claims = json.load(file)\n",
    "\n",
    "claims_descr = claims[\"class_descr\"]\n",
    "del claims[\"class_descr\"]"
   ]
  },
  {
   "cell_type": "code",
   "execution_count": 37,
   "id": "29a21dd9-66b2-49e4-89cb-eaec2b5ca967",
   "metadata": {},
   "outputs": [],
   "source": [
    "inverse_claims = {claims[k]: k for k in claims}"
   ]
  },
  {
   "cell_type": "code",
   "execution_count": null,
   "id": "a59b65e3-7177-4659-9704-76d63e1154b0",
   "metadata": {},
   "outputs": [],
   "source": []
  },
  {
   "cell_type": "markdown",
   "id": "e3cb0859-bb4b-4dcd-b6cb-21a2241e291b",
   "metadata": {
    "tags": []
   },
   "source": [
    "#### Baseline 1: Fine-tuned BERT"
   ]
  },
  {
   "cell_type": "code",
   "execution_count": 106,
   "id": "08852f7d-cb3d-4525-8827-9fc73313acb9",
   "metadata": {},
   "outputs": [
    {
     "name": "stdout",
     "output_type": "stream",
     "text": [
      "              precision    recall  f1-score   support\n",
      "\n",
      "         1_1       0.67      0.86      0.76        36\n",
      "         1_2       0.56      0.42      0.48        12\n",
      "         1_3       0.63      0.35      0.45        48\n",
      "         1_4       0.54      0.89      0.67        70\n",
      "         1_6       0.69      0.92      0.79        24\n",
      "         1_7       0.40      0.47      0.43        34\n",
      "\n",
      "   micro avg       0.57      0.68      0.62       224\n",
      "   macro avg       0.58      0.65      0.60       224\n",
      "weighted avg       0.58      0.68      0.60       224\n",
      " samples avg       0.06      0.06      0.06       224\n",
      "\n"
     ]
    },
    {
     "name": "stderr",
     "output_type": "stream",
     "text": [
      "/Users/sandrinechausson/Documents/easyclaimsdetection/venv/lib/python3.9/site-packages/sklearn/metrics/_classification.py:1318: UndefinedMetricWarning: Precision and F-score are ill-defined and being set to 0.0 in samples with no predicted labels. Use `zero_division` parameter to control this behavior.\n",
      "  _warn_prf(average, modifier, msg_start, len(result))\n",
      "/Users/sandrinechausson/Documents/easyclaimsdetection/venv/lib/python3.9/site-packages/sklearn/metrics/_classification.py:1318: UndefinedMetricWarning: Recall and F-score are ill-defined and being set to 0.0 in samples with no true labels. Use `zero_division` parameter to control this behavior.\n",
      "  _warn_prf(average, modifier, msg_start, len(result))\n"
     ]
    }
   ],
   "source": [
    "print(classification_report(test_df['multi_annot'].to_list(), test_df['BERT'].to_list(), target_names=CLASSES))"
   ]
  },
  {
   "cell_type": "code",
   "execution_count": null,
   "id": "91ed55f7-e15d-428d-a888-fe485d559b9a",
   "metadata": {},
   "outputs": [],
   "source": []
  },
  {
   "cell_type": "markdown",
   "id": "9dc3f40e-452a-444a-8e64-aed82014f7a0",
   "metadata": {
    "tags": []
   },
   "source": [
    "#### Baseline 2: SBERT cosine similarity with threshold-tuning"
   ]
  },
  {
   "cell_type": "code",
   "execution_count": 11,
   "id": "d6dfb20c-2f7d-43e5-8a97-bc6be4afc1dc",
   "metadata": {},
   "outputs": [],
   "source": [
    "with open('./data/bisection_records/CCC_SBERT.json') as file:\n",
    "    sbert_record = json.load(file)"
   ]
  },
  {
   "cell_type": "code",
   "execution_count": 12,
   "id": "47544a9f-4d21-44cb-bb8b-cbd6ea5450e9",
   "metadata": {},
   "outputs": [],
   "source": [
    "sbert_thresholds = get_thresholds_from_record(sbert_record, start=-1, end=1)"
   ]
  },
  {
   "cell_type": "code",
   "execution_count": 13,
   "id": "865e3421-dade-4a1b-b71c-28528f6c7081",
   "metadata": {},
   "outputs": [],
   "source": [
    "test_df['pred_multi'] = test_df.apply(lambda x: get_multi_pred(x, 'sbert_cosine', claims, thresholds=sbert_thresholds), axis=1)"
   ]
  },
  {
   "cell_type": "code",
   "execution_count": 14,
   "id": "89e76f01-6f37-4f81-abab-3c1156c5ed7b",
   "metadata": {},
   "outputs": [
    {
     "name": "stdout",
     "output_type": "stream",
     "text": [
      "              precision    recall  f1-score   support\n",
      "\n",
      "         1_1       0.43      0.89      0.58        36\n",
      "         1_2       0.20      0.08      0.12        12\n",
      "         1_3       0.64      0.15      0.24        48\n",
      "         1_4       0.40      0.44      0.42        70\n",
      "         1_6       0.52      0.96      0.68        24\n",
      "         1_7       0.50      0.50      0.50        34\n",
      "\n",
      "   micro avg       0.45      0.50      0.47       224\n",
      "   macro avg       0.45      0.50      0.42       224\n",
      "weighted avg       0.47      0.50      0.43       224\n",
      " samples avg       0.04      0.04      0.04       224\n",
      "\n"
     ]
    },
    {
     "name": "stderr",
     "output_type": "stream",
     "text": [
      "/Users/sandrinechausson/Documents/easyclaimsdetection/venv/lib/python3.9/site-packages/sklearn/metrics/_classification.py:1318: UndefinedMetricWarning: Precision and F-score are ill-defined and being set to 0.0 in samples with no predicted labels. Use `zero_division` parameter to control this behavior.\n",
      "  _warn_prf(average, modifier, msg_start, len(result))\n",
      "/Users/sandrinechausson/Documents/easyclaimsdetection/venv/lib/python3.9/site-packages/sklearn/metrics/_classification.py:1318: UndefinedMetricWarning: Recall and F-score are ill-defined and being set to 0.0 in samples with no true labels. Use `zero_division` parameter to control this behavior.\n",
      "  _warn_prf(average, modifier, msg_start, len(result))\n"
     ]
    }
   ],
   "source": [
    "print(classification_report(test_df['multi_annot'].to_list(), test_df['pred_multi'].to_list(), target_names=CLASSES))"
   ]
  },
  {
   "cell_type": "code",
   "execution_count": 15,
   "id": "619d4384-38ab-4592-8b09-7b2121787f12",
   "metadata": {},
   "outputs": [
    {
     "data": {
      "text/plain": [
       "680"
      ]
     },
     "execution_count": 15,
     "metadata": {},
     "output_type": "execute_result"
    }
   ],
   "source": [
    "datapoints = list()\n",
    "for k in sbert_record:\n",
    "    datapoints += sbert_record[k]['texts']\n",
    "len(set(datapoints))"
   ]
  },
  {
   "cell_type": "code",
   "execution_count": null,
   "id": "eb1f48fc-b77f-417a-bc88-b387c2bbfa59",
   "metadata": {},
   "outputs": [],
   "source": []
  },
  {
   "cell_type": "markdown",
   "id": "17b80dc3-9fab-4b04-86cc-068fad5676f2",
   "metadata": {
    "tags": []
   },
   "source": [
    "#### Baseline 3: BART MNLI model with unique threshold (Zero-Shot approach)"
   ]
  },
  {
   "cell_type": "code",
   "execution_count": 16,
   "id": "4a36455f-ce4c-46e9-aeb7-540eb460ab36",
   "metadata": {},
   "outputs": [],
   "source": [
    "artificial_thresholds = {k: {'threshold': 0.5} for k in claims}"
   ]
  },
  {
   "cell_type": "code",
   "execution_count": 17,
   "id": "31ec4aa7-a634-4131-8555-de1835568d6e",
   "metadata": {},
   "outputs": [],
   "source": [
    "test_df['pred_multi'] = test_df.apply(lambda x: get_multi_pred(x, 'FSL_BART', claims, thresholds=artificial_thresholds), axis=1)"
   ]
  },
  {
   "cell_type": "code",
   "execution_count": 18,
   "id": "ac0158df-e835-4b96-af55-b0671e03b3ce",
   "metadata": {},
   "outputs": [
    {
     "name": "stdout",
     "output_type": "stream",
     "text": [
      "              precision    recall  f1-score   support\n",
      "\n",
      "         1_1       0.22      0.69      0.34        36\n",
      "         1_2       0.06      1.00      0.11        12\n",
      "         1_3       0.03      0.98      0.06        48\n",
      "         1_4       0.47      0.80      0.59        70\n",
      "         1_6       0.29      0.96      0.45        24\n",
      "         1_7       0.01      0.97      0.03        34\n",
      "\n",
      "   micro avg       0.05      0.88      0.09       224\n",
      "   macro avg       0.18      0.90      0.26       224\n",
      "weighted avg       0.23      0.88      0.31       224\n",
      " samples avg       0.03      0.07      0.04       224\n",
      "\n"
     ]
    },
    {
     "name": "stderr",
     "output_type": "stream",
     "text": [
      "/Users/sandrinechausson/Documents/easyclaimsdetection/venv/lib/python3.9/site-packages/sklearn/metrics/_classification.py:1318: UndefinedMetricWarning: Precision and F-score are ill-defined and being set to 0.0 in samples with no predicted labels. Use `zero_division` parameter to control this behavior.\n",
      "  _warn_prf(average, modifier, msg_start, len(result))\n",
      "/Users/sandrinechausson/Documents/easyclaimsdetection/venv/lib/python3.9/site-packages/sklearn/metrics/_classification.py:1318: UndefinedMetricWarning: Recall and F-score are ill-defined and being set to 0.0 in samples with no true labels. Use `zero_division` parameter to control this behavior.\n",
      "  _warn_prf(average, modifier, msg_start, len(result))\n"
     ]
    }
   ],
   "source": [
    "print(classification_report(test_df['multi_annot'].to_list(), test_df['pred_multi'].to_list(), target_names=CLASSES))"
   ]
  },
  {
   "cell_type": "code",
   "execution_count": null,
   "id": "f44ff50f-ae6d-4e0e-b63b-baecc77100d2",
   "metadata": {},
   "outputs": [],
   "source": []
  },
  {
   "cell_type": "markdown",
   "id": "8bcf1ade-7798-42d4-9ea5-a86155afc426",
   "metadata": {},
   "source": [
    "#### Baseline 4: BART MNLI model with Temperature Scaling"
   ]
  },
  {
   "cell_type": "code",
   "execution_count": 11,
   "id": "b827f5fe-776d-47ac-9369-d811f5ad28d4",
   "metadata": {},
   "outputs": [],
   "source": [
    "sample_sizes = [5, 10, 20, 40, 80, 160]"
   ]
  },
  {
   "cell_type": "code",
   "execution_count": 12,
   "id": "b1a0cf04-2eba-4e3e-a088-01391c7e3d42",
   "metadata": {},
   "outputs": [],
   "source": [
    "artificial_thresholds = {k: {'threshold': 0.5} for k in claims}"
   ]
  },
  {
   "cell_type": "code",
   "execution_count": 15,
   "id": "aaa9e16b-ea93-4f70-9a76-bee57bc0fd85",
   "metadata": {},
   "outputs": [
    {
     "name": "stdout",
     "output_type": "stream",
     "text": [
      "5 : 0.161\n",
      "10 : 0.220\n",
      "20 : 0.205\n",
      "40 : 0.154\n",
      "80 : 0.193\n",
      "160 : 0.188\n"
     ]
    }
   ],
   "source": [
    "for samp_size in sample_sizes:\n",
    "    test_df['pred_multi'] = test_df.apply(lambda x: get_multi_pred(x, 'Temp_Scaling_BART_' + str(samp_size), claims, thresholds=artificial_thresholds), axis=1)\n",
    "    print(samp_size, ': %.3f' % f1_score(test_df['multi_annot'].to_list(), test_df['pred_multi'].to_list(), average=\"micro\"))"
   ]
  },
  {
   "cell_type": "code",
   "execution_count": null,
   "id": "e258b1ff-b1e0-4341-bb64-7bbbfcb12415",
   "metadata": {},
   "outputs": [],
   "source": []
  },
  {
   "cell_type": "markdown",
   "id": "70b42a7a-198b-4801-bcc9-812ba8f3651c",
   "metadata": {
    "tags": []
   },
   "source": [
    "#### Ours 1: Few-shots NLI approach using BART MNLI"
   ]
  },
  {
   "cell_type": "code",
   "execution_count": 9,
   "id": "49c0e892-7889-46d2-af95-50c8294c201f",
   "metadata": {},
   "outputs": [],
   "source": [
    "with open('./data/bisection_records/CCC_BART.json') as file:\n",
    "    bart_record = json.load(file)"
   ]
  },
  {
   "cell_type": "code",
   "execution_count": 10,
   "id": "bc26b15b-2a17-4144-9233-2d737074436d",
   "metadata": {},
   "outputs": [],
   "source": [
    "bart_thresholds = get_thresholds_from_record(bart_record, start=0, end=1)"
   ]
  },
  {
   "cell_type": "code",
   "execution_count": 70,
   "id": "0c9de37a-b426-4d64-bd88-bf0833fcf695",
   "metadata": {},
   "outputs": [],
   "source": [
    "test_df['pred_multi'] = test_df.apply(lambda x: get_multi_pred(x, 'FSL_BART', claims, thresholds=bart_thresholds), axis=1)"
   ]
  },
  {
   "cell_type": "code",
   "execution_count": 83,
   "id": "38eb15d2-37ad-4e21-addf-432ebc0da32a",
   "metadata": {},
   "outputs": [
    {
     "name": "stdout",
     "output_type": "stream",
     "text": [
      "              precision    recall  f1-score   support\n",
      "\n",
      "         0_0       0.97      0.97      0.97      2405\n",
      "         1_1       0.69      0.54      0.61        37\n",
      "         1_2       0.30      0.19      0.23        16\n",
      "         1_3       0.39      0.76      0.51        25\n",
      "         1_4       0.74      0.69      0.71        54\n",
      "         1_6       0.69      0.52      0.59        21\n",
      "         1_7       0.35      0.28      0.31        47\n",
      "\n",
      "    accuracy                           0.93      2605\n",
      "   macro avg       0.59      0.56      0.56      2605\n",
      "weighted avg       0.93      0.93      0.93      2605\n",
      "\n"
     ]
    }
   ],
   "source": [
    "print(classification_report(test_df['multi_annot'].to_list(), test_df['pred_multi'].to_list(), target_names=CLASSES))"
   ]
  },
  {
   "cell_type": "code",
   "execution_count": 23,
   "id": "4cf05b51-5d53-4df3-843e-d05710801084",
   "metadata": {},
   "outputs": [
    {
     "data": {
      "text/plain": [
       "457"
      ]
     },
     "execution_count": 23,
     "metadata": {},
     "output_type": "execute_result"
    }
   ],
   "source": [
    "datapoints = list()\n",
    "for k in bart_record:\n",
    "    if k in [\"1_4_0_1\"]:\n",
    "        continue\n",
    "    datapoints += bart_record[k]['texts']\n",
    "len(set(datapoints))"
   ]
  },
  {
   "cell_type": "code",
   "execution_count": null,
   "id": "0b507ed9-3986-4e22-af40-084e9b0350b0",
   "metadata": {},
   "outputs": [],
   "source": []
  },
  {
   "cell_type": "markdown",
   "id": "52d67d5a-816d-4e9e-abf3-bab90ff95e5f",
   "metadata": {
    "tags": []
   },
   "source": [
    "### Topic and stance classification"
   ]
  },
  {
   "cell_type": "code",
   "execution_count": 91,
   "id": "5bdcfc99-a630-4ae1-b4f0-cf408b100e44",
   "metadata": {},
   "outputs": [],
   "source": [
    "test_df = pd.read_pickle('./data/topic_stance/testing.pkl')"
   ]
  },
  {
   "cell_type": "code",
   "execution_count": 92,
   "id": "12894ae8-47e8-4567-9cc2-bd342496c2f3",
   "metadata": {},
   "outputs": [],
   "source": [
    "CLASSES_TOPIC = ['1', '2', '3', '4', '5']\n",
    "CLASSES_STANCE = ['1A', '1F', '1N', '2A', '2F', '2N', '3A', '3F', '3N', '4A', '4F', '4N', '5A', '5F', '5N']"
   ]
  },
  {
   "cell_type": "code",
   "execution_count": 93,
   "id": "202fa37f-7a9e-43f4-b1d7-e1c777d8dd0d",
   "metadata": {},
   "outputs": [],
   "source": [
    "with open(\"./data/topic_stance/claims_topic.json\") as file:\n",
    "    claims_topic = json.load(file)\n",
    "    \n",
    "with open(\"./data/topic_stance/claims_stance.json\") as file:\n",
    "    claims_stance = json.load(file)\n",
    "    \n",
    "claims = {**claims_topic, **claims_stance}\n",
    "\n",
    "claims_descr = claims[\"class_descr\"]\n",
    "del claims[\"class_descr\"]"
   ]
  },
  {
   "cell_type": "code",
   "execution_count": 94,
   "id": "cb9dad97-5bad-4500-8090-9f231c70602e",
   "metadata": {},
   "outputs": [],
   "source": [
    "inverse_claims = {claims[k]: k for k in claims}"
   ]
  },
  {
   "cell_type": "code",
   "execution_count": 95,
   "id": "4df9c831-1ecc-47c1-a7e6-2e1fdcadf758",
   "metadata": {},
   "outputs": [],
   "source": [
    "def custom_transformation(x, threshold):\n",
    "    if x <= threshold:\n",
    "        return x * (0.5 / threshold)\n",
    "    else:\n",
    "        return 0.5 + (x - threshold) * (0.5 / (1 - threshold))\n",
    "    \n",
    "    \n",
    "def get_normed_scores(zsl_dict, thresholds, inverse_claims):\n",
    "    new_results = dict()\n",
    "    for trait in zsl_dict:\n",
    "        if not trait in inverse_claims:\n",
    "            continue\n",
    "        new_results[trait] = custom_transformation(zsl_dict[trait], thresholds[inverse_claims[trait]]['threshold'])\n",
    "    return new_results\n",
    "\n",
    "\n",
    "def get_avg_normed_topic_scores(normed_zsl_dict, classes_list, inverse_claims):\n",
    "    new_results = dict()\n",
    "    for c in classes_list:\n",
    "        temp = [normed_zsl_dict[trait] for trait in normed_zsl_dict if inverse_claims[trait].split(\"_\")[0] == c]\n",
    "        if len(temp) > 0:\n",
    "            new_results[c] = sum(temp) / len(temp)\n",
    "    return new_results\n",
    "    \n",
    "\n",
    "def get_topic_pred_multiclass(avg_normed_ZSL_scores):\n",
    "    return max(avg_normed_ZSL_scores, key=avg_normed_ZSL_scores.get)\n",
    "\n",
    "def get_stance_pred(normed_zsl_dict, topic, traits):\n",
    "    traits_anti = [traits[t] for t in traits if t[:2] == (topic + \"A\")]\n",
    "    detected_anti = [normed_zsl_dict[t] for t in traits_anti if normed_zsl_dict[t] > 0.5]\n",
    "    traits_favor = [traits[t] for t in traits if t[:2] == (topic + \"F\")]\n",
    "    detected_favor = [normed_zsl_dict[t] for t in traits_favor if normed_zsl_dict[t] > 0.5]\n",
    "    if len(detected_anti) > len(detected_favor):\n",
    "        return topic + \"A\"\n",
    "    elif len(detected_favor) > len(detected_anti):\n",
    "        return topic + \"F\"\n",
    "    if len(detected_favor) == 0:\n",
    "        return topic + \"N\"\n",
    "    avg_scores_anti = sum(detected_anti) / len(detected_anti)\n",
    "    avg_scores_favour = sum(detected_favor) / len(detected_favor)\n",
    "    if avg_scores_anti > (1.05 * avg_scores_favour):\n",
    "        return topic + \"A\"\n",
    "    elif avg_scores_favour > (1.05 * avg_scores_anti):\n",
    "        return topic + \"F\"\n",
    "    return topic + \"N\"\n",
    "    return max(normed_zsl_dict, key=normed_zsl_dict.get)"
   ]
  },
  {
   "cell_type": "code",
   "execution_count": null,
   "id": "1738ebe9-56da-4158-a7ae-c856fddf7a76",
   "metadata": {},
   "outputs": [],
   "source": []
  },
  {
   "cell_type": "markdown",
   "id": "2174be5e-12fd-4af0-931b-11b1149d3cff",
   "metadata": {
    "tags": []
   },
   "source": [
    "#### Baseline 1: Fine-tuned BERT"
   ]
  },
  {
   "cell_type": "code",
   "execution_count": 97,
   "id": "67f59b84-60ac-464a-bc13-4cf969bb9cdd",
   "metadata": {},
   "outputs": [
    {
     "name": "stdout",
     "output_type": "stream",
     "text": [
      "              precision    recall  f1-score   support\n",
      "\n",
      "          1A       0.79      0.74      0.76       160\n",
      "          1F       0.29      0.19      0.23        32\n",
      "          1N       0.23      0.32      0.26        28\n",
      "          2A       0.00      0.00      0.00        11\n",
      "          2F       0.85      0.91      0.88       123\n",
      "          2N       0.26      0.20      0.23        35\n",
      "          3A       0.68      0.54      0.60       183\n",
      "          3F       0.26      0.60      0.36        58\n",
      "          3N       0.32      0.16      0.21        44\n",
      "          4A       0.66      0.76      0.71       172\n",
      "          4F       0.58      0.67      0.62        45\n",
      "          4N       0.32      0.36      0.34        78\n",
      "          5A       0.69      0.47      0.56       189\n",
      "          5F       0.55      0.24      0.33        46\n",
      "          5N       0.10      0.20      0.13        45\n",
      "\n",
      "    accuracy                           0.55      1249\n",
      "   macro avg       0.44      0.42      0.41      1249\n",
      "weighted avg       0.59      0.55      0.56      1249\n",
      "\n"
     ]
    },
    {
     "name": "stderr",
     "output_type": "stream",
     "text": [
      "/Users/sandrinechausson/Documents/easyclaimsdetection/venv/lib/python3.9/site-packages/sklearn/metrics/_classification.py:1318: UndefinedMetricWarning: Precision and F-score are ill-defined and being set to 0.0 in labels with no predicted samples. Use `zero_division` parameter to control this behavior.\n",
      "  _warn_prf(average, modifier, msg_start, len(result))\n",
      "/Users/sandrinechausson/Documents/easyclaimsdetection/venv/lib/python3.9/site-packages/sklearn/metrics/_classification.py:1318: UndefinedMetricWarning: Precision and F-score are ill-defined and being set to 0.0 in labels with no predicted samples. Use `zero_division` parameter to control this behavior.\n",
      "  _warn_prf(average, modifier, msg_start, len(result))\n",
      "/Users/sandrinechausson/Documents/easyclaimsdetection/venv/lib/python3.9/site-packages/sklearn/metrics/_classification.py:1318: UndefinedMetricWarning: Precision and F-score are ill-defined and being set to 0.0 in labels with no predicted samples. Use `zero_division` parameter to control this behavior.\n",
      "  _warn_prf(average, modifier, msg_start, len(result))\n"
     ]
    }
   ],
   "source": [
    "print(classification_report(test_df['topic_stance_annot'].to_list(), test_df['BERT_topic_stance'].to_list(), target_names=CLASSES_STANCE))"
   ]
  },
  {
   "cell_type": "markdown",
   "id": "53a3e3c1-94f3-4561-b201-d3665d8805c6",
   "metadata": {
    "tags": []
   },
   "source": [
    "#### Baseline 2: SBERT cosine similarity with threshold-tuning"
   ]
  },
  {
   "cell_type": "code",
   "execution_count": 98,
   "id": "7d739f07-7f5f-4c44-b211-b2a75471e9a5",
   "metadata": {},
   "outputs": [],
   "source": [
    "with open('./data/bisection_records/TS_SBERT_topic.json') as file:\n",
    "    sbert_record_topic = json.load(file)\n",
    "    \n",
    "with open('./data/bisection_records/TS_SBERT_stance.json') as file:\n",
    "    sbert_record_stance = json.load(file)"
   ]
  },
  {
   "cell_type": "code",
   "execution_count": 99,
   "id": "046d8c1d-9081-4174-ad93-81ea4fa061e3",
   "metadata": {},
   "outputs": [],
   "source": [
    "sbert_topic_thresholds = get_thresholds_from_record(sbert_record_topic, start=-1, end=1)\n",
    "sbert_stance_thresholds = get_thresholds_from_record(sbert_record_stance, start=-1, end=1)"
   ]
  },
  {
   "cell_type": "code",
   "execution_count": 100,
   "id": "f0d6977b-7b82-4181-9652-0632ba49dca3",
   "metadata": {},
   "outputs": [],
   "source": [
    "test_df['normed_sbert_topic'] = test_df[\"sbert_cosine_topic\"].apply(lambda x: get_normed_scores(x, sbert_topic_thresholds, inverse_claims))\n",
    "test_df['normed_sbert_stance'] = test_df[\"sbert_cosine_stance\"].apply(lambda x: get_normed_scores(x, sbert_stance_thresholds, inverse_claims))\n",
    "test_df['avg_normed_sbert_topic'] = test_df[\"normed_sbert_topic\"].apply(lambda x: get_avg_normed_topic_scores(x, CLASSES_TOPIC, inverse_claims))\n",
    "test_df['pred_topic'] = test_df['avg_normed_sbert_topic'].apply(get_topic_pred_multiclass)\n",
    "test_df['pred_stance'] = test_df.apply(lambda x: get_stance_pred(x['normed_sbert_stance'], x['pred_topic'], claims_stance), axis=1)"
   ]
  },
  {
   "cell_type": "code",
   "execution_count": 101,
   "id": "a4046d2e-8747-43fc-b9a6-a72846d89f7e",
   "metadata": {},
   "outputs": [
    {
     "name": "stdout",
     "output_type": "stream",
     "text": [
      "              precision    recall  f1-score   support\n",
      "\n",
      "          1A       0.72      0.76      0.74       160\n",
      "          1F       0.80      0.12      0.22        32\n",
      "          1N       0.05      0.14      0.07        28\n",
      "          2A       0.00      0.00      0.00        11\n",
      "          2F       0.84      0.92      0.88       123\n",
      "          2N       0.25      0.49      0.33        35\n",
      "          3A       0.62      0.57      0.60       183\n",
      "          3F       0.00      0.00      0.00        58\n",
      "          3N       0.12      0.43      0.18        44\n",
      "          4A       0.73      0.51      0.60       172\n",
      "          4F       0.50      0.02      0.04        45\n",
      "          4N       0.27      0.53      0.35        78\n",
      "          5A       0.71      0.52      0.60       189\n",
      "          5F       0.00      0.00      0.00        46\n",
      "          5N       0.07      0.07      0.07        45\n",
      "\n",
      "    accuracy                           0.49      1249\n",
      "   macro avg       0.38      0.34      0.31      1249\n",
      "weighted avg       0.54      0.49      0.49      1249\n",
      "\n"
     ]
    },
    {
     "name": "stderr",
     "output_type": "stream",
     "text": [
      "/Users/sandrinechausson/Documents/easyclaimsdetection/venv/lib/python3.9/site-packages/sklearn/metrics/_classification.py:1318: UndefinedMetricWarning: Precision and F-score are ill-defined and being set to 0.0 in labels with no predicted samples. Use `zero_division` parameter to control this behavior.\n",
      "  _warn_prf(average, modifier, msg_start, len(result))\n",
      "/Users/sandrinechausson/Documents/easyclaimsdetection/venv/lib/python3.9/site-packages/sklearn/metrics/_classification.py:1318: UndefinedMetricWarning: Precision and F-score are ill-defined and being set to 0.0 in labels with no predicted samples. Use `zero_division` parameter to control this behavior.\n",
      "  _warn_prf(average, modifier, msg_start, len(result))\n",
      "/Users/sandrinechausson/Documents/easyclaimsdetection/venv/lib/python3.9/site-packages/sklearn/metrics/_classification.py:1318: UndefinedMetricWarning: Precision and F-score are ill-defined and being set to 0.0 in labels with no predicted samples. Use `zero_division` parameter to control this behavior.\n",
      "  _warn_prf(average, modifier, msg_start, len(result))\n"
     ]
    }
   ],
   "source": [
    "print(classification_report(test_df['topic_stance_annot'].to_list(), test_df['pred_stance'].to_list(), target_names=CLASSES_STANCE))"
   ]
  },
  {
   "cell_type": "code",
   "execution_count": 102,
   "id": "7b646924-2133-4fc8-8110-f6a1fb100fdb",
   "metadata": {},
   "outputs": [
    {
     "data": {
      "text/plain": [
       "1271"
      ]
     },
     "execution_count": 102,
     "metadata": {},
     "output_type": "execute_result"
    }
   ],
   "source": [
    "datapoints = list()\n",
    "for k in sbert_record_topic:\n",
    "    datapoints += sbert_record_topic[k]['texts']\n",
    "    \n",
    "for k in sbert_record_stance:\n",
    "    datapoints += sbert_record_stance[k]['texts']\n",
    "    \n",
    "len(set(datapoints))"
   ]
  },
  {
   "cell_type": "code",
   "execution_count": null,
   "id": "a1403487-b9ed-4b59-a06c-cafc0674e14c",
   "metadata": {},
   "outputs": [],
   "source": []
  },
  {
   "cell_type": "markdown",
   "id": "e2f68302-508e-460b-864c-055ac3b07ffd",
   "metadata": {
    "tags": []
   },
   "source": [
    "#### Baseline 3: BART MNLI model with unique threshold (Zero-Shot approach)"
   ]
  },
  {
   "cell_type": "code",
   "execution_count": 103,
   "id": "3f561586-3b95-4eae-b454-9e76f5722259",
   "metadata": {},
   "outputs": [],
   "source": [
    "artificial_thresholds = {k: {'threshold': 0.5} for k in claims}"
   ]
  },
  {
   "cell_type": "code",
   "execution_count": 104,
   "id": "8311ae32-b246-4105-bf4f-6921b8607fef",
   "metadata": {},
   "outputs": [],
   "source": [
    "test_df['normed_BART_topic'] = test_df[\"FSL_BART_topic\"].apply(lambda x: get_normed_scores(x, artificial_thresholds, inverse_claims))\n",
    "test_df['normed_BART_stance'] = test_df[\"FSL_BART_stance\"].apply(lambda x: get_normed_scores(x, artificial_thresholds, inverse_claims))\n",
    "test_df['avg_normed_BART_topic'] = test_df[\"normed_BART_topic\"].apply(lambda x: get_avg_normed_topic_scores(x, CLASSES_TOPIC, inverse_claims))\n",
    "test_df['pred_topic'] = test_df['avg_normed_BART_topic'].apply(get_topic_pred_multiclass)\n",
    "test_df['pred_stance'] = test_df.apply(lambda x: get_stance_pred(x['normed_BART_stance'], x['pred_topic'], claims_stance), axis=1)"
   ]
  },
  {
   "cell_type": "code",
   "execution_count": 105,
   "id": "2ce73153-7a60-4c2c-baab-136beb29c8bc",
   "metadata": {},
   "outputs": [
    {
     "name": "stdout",
     "output_type": "stream",
     "text": [
      "              precision    recall  f1-score   support\n",
      "\n",
      "          1A       0.76      0.76      0.76       160\n",
      "          1F       0.58      0.56      0.57        32\n",
      "          1N       0.05      0.07      0.06        28\n",
      "          2A       0.67      0.18      0.29        11\n",
      "          2F       0.73      0.98      0.84       123\n",
      "          2N       0.21      0.09      0.12        35\n",
      "          3A       0.71      0.25      0.37       183\n",
      "          3F       0.20      0.88      0.32        58\n",
      "          3N       0.14      0.39      0.20        44\n",
      "          4A       0.89      0.51      0.65       172\n",
      "          4F       0.76      0.71      0.74        45\n",
      "          4N       0.32      0.40      0.35        78\n",
      "          5A       0.89      0.16      0.28       189\n",
      "          5F       0.18      0.43      0.26        46\n",
      "          5N       0.25      0.02      0.04        45\n",
      "\n",
      "    accuracy                           0.47      1249\n",
      "   macro avg       0.49      0.43      0.39      1249\n",
      "weighted avg       0.63      0.47      0.47      1249\n",
      "\n"
     ]
    }
   ],
   "source": [
    "print(classification_report(test_df['topic_stance_annot'].to_list(), test_df['pred_stance'].to_list(), target_names=CLASSES_STANCE))"
   ]
  },
  {
   "cell_type": "code",
   "execution_count": null,
   "id": "865145d0-1f14-469e-9022-67e68933c0e5",
   "metadata": {},
   "outputs": [],
   "source": []
  },
  {
   "cell_type": "markdown",
   "id": "0d35bd13-d0ae-4ba0-b886-44a8a2690c56",
   "metadata": {},
   "source": [
    "#### Baseline 4: BART MNLI model with Temperature Scaling"
   ]
  },
  {
   "cell_type": "code",
   "execution_count": 106,
   "id": "9b70777a-ef54-4cec-a577-343213e899fc",
   "metadata": {},
   "outputs": [],
   "source": [
    "sample_sizes = [5, 10, 20, 40, 80, 160]"
   ]
  },
  {
   "cell_type": "code",
   "execution_count": 107,
   "id": "c0ac9bc8-3ac1-4cd4-929a-f0b16d23274e",
   "metadata": {},
   "outputs": [],
   "source": [
    "artificial_thresholds = {k: {'threshold': 0.5} for k in claims}"
   ]
  },
  {
   "cell_type": "code",
   "execution_count": 108,
   "id": "f9ce57b5-14a5-412b-ae18-a0903f6e65f2",
   "metadata": {},
   "outputs": [
    {
     "data": {
      "text/plain": [
       "Index(['ID', 'Target', 'Tweet', 'Stance', 'FSL_BART_stance', 'FSL_BART_topic',\n",
       "       'sbert_cosine_topic', 'sbert_cosine_stance', 'topic_stance_annot',\n",
       "       'topic_annot', '1_annot', '2_annot', '3_annot', '4_annot', '5_annot',\n",
       "       '1A_annot', '1F_annot', '2A_annot', '2F_annot', '3A_annot', '3F_annot',\n",
       "       '4A_annot', '4F_annot', '5A_annot', '5F_annot', 'BERT_topic',\n",
       "       'BERT_topic_stance', 'Temp_Scaling_BART_5_topic',\n",
       "       'Temp_Scaling_BART_10_topic', 'Temp_Scaling_BART_20_topic',\n",
       "       'Temp_Scaling_BART_40_topic', 'Temp_Scaling_BART_80_topic',\n",
       "       'Temp_Scaling_BART_160_topic', 'Temp_Scaling_BART_5_stance',\n",
       "       'Temp_Scaling_BART_10_stance', 'Temp_Scaling_BART_20_stance',\n",
       "       'Temp_Scaling_BART_40_stance', 'Temp_Scaling_BART_80_stance',\n",
       "       'Temp_Scaling_BART_160_stance', 'normed_sbert_topic',\n",
       "       'normed_sbert_stance', 'avg_normed_sbert_topic', 'pred_topic',\n",
       "       'pred_stance', 'normed_BART_topic', 'normed_BART_stance',\n",
       "       'avg_normed_BART_topic'],\n",
       "      dtype='object')"
      ]
     },
     "execution_count": 108,
     "metadata": {},
     "output_type": "execute_result"
    }
   ],
   "source": [
    "test_df.columns"
   ]
  },
  {
   "cell_type": "code",
   "execution_count": 109,
   "id": "f4e42dd3-6d46-483a-8906-6dcf411195fb",
   "metadata": {},
   "outputs": [
    {
     "name": "stdout",
     "output_type": "stream",
     "text": [
      "5 : 0.420\n",
      "10 : 0.420\n",
      "20 : 0.418\n",
      "40 : 0.415\n",
      "80 : 0.417\n",
      "160 : 0.416\n"
     ]
    }
   ],
   "source": [
    "for samp_size in sample_sizes:\n",
    "    test_df['normed_TempScal_topic'] = test_df[\"Temp_Scaling_BART_\" + str(samp_size) + \"_topic\"].apply(lambda x: get_normed_scores(x, artificial_thresholds, inverse_claims))\n",
    "    test_df['normed_TempScal_stance'] = test_df[\"Temp_Scaling_BART_\" + str(samp_size) + \"_stance\"].apply(lambda x: get_normed_scores(x, artificial_thresholds, inverse_claims))\n",
    "    test_df['avg_normed_TempScal_topic'] = test_df[\"normed_TempScal_topic\"].apply(lambda x: get_avg_normed_topic_scores(x, CLASSES_TOPIC, inverse_claims))\n",
    "    test_df['pred_topic'] = test_df['avg_normed_TempScal_topic'].apply(get_topic_pred_multiclass)\n",
    "    test_df['pred_stance'] = test_df.apply(lambda x: get_stance_pred(x['normed_TempScal_stance'], x['pred_topic'], claims_stance), axis=1)\n",
    "    print(samp_size, ': %.3f' % f1_score(test_df['topic_stance_annot'].to_list(), test_df['pred_stance'].to_list(), average=\"micro\"))"
   ]
  },
  {
   "cell_type": "code",
   "execution_count": null,
   "id": "6f3f768e-21c2-43e2-a77e-a3007853f119",
   "metadata": {},
   "outputs": [],
   "source": []
  },
  {
   "cell_type": "markdown",
   "id": "7cc8705f-bd1c-4368-9976-ebbab3586cf7",
   "metadata": {
    "tags": []
   },
   "source": [
    "#### Ours 1: Few-shots NLI approach using BART MNLI"
   ]
  },
  {
   "cell_type": "code",
   "execution_count": 110,
   "id": "a7916dfe-33b0-4d03-a2d3-bed91bc9798f",
   "metadata": {},
   "outputs": [],
   "source": [
    "with open('./data/bisection_records/TS_BART_topic.json') as file:\n",
    "    bart_record_topic = json.load(file)\n",
    "    \n",
    "with open('./data/bisection_records/TS_BART_stance.json') as file:\n",
    "    bart_record_stance = json.load(file)"
   ]
  },
  {
   "cell_type": "code",
   "execution_count": 111,
   "id": "e4e7fa41-670e-41d9-a450-c41e13db96f4",
   "metadata": {},
   "outputs": [],
   "source": [
    "bart_topic_thresholds = get_thresholds_from_record(bart_record_topic, start=0, end=1)\n",
    "bart_stance_thresholds = get_thresholds_from_record(bart_record_stance, start=0, end=1)"
   ]
  },
  {
   "cell_type": "code",
   "execution_count": 112,
   "id": "45e3a555-158d-4694-be1a-43613c9b4101",
   "metadata": {},
   "outputs": [
    {
     "data": {
      "text/plain": [
       "{'1_0': {'threshold': 0.44},\n",
       " '1_1': {'threshold': 0.37},\n",
       " '1_2': {'threshold': 0.21000000000000002},\n",
       " '1_3': {'threshold': 0.16999999999999998},\n",
       " '1_4': {'threshold': 0.14},\n",
       " '2_0': {'threshold': 0.46},\n",
       " '2_1': {'threshold': 0.46},\n",
       " '2_2': {'threshold': 0.41000000000000003},\n",
       " '2_3': {'threshold': 0.31},\n",
       " '2_4': {'threshold': 0.19},\n",
       " '3_0': {'threshold': 0.53},\n",
       " '3_1': {'threshold': 0.44},\n",
       " '3_2': {'threshold': 0.65},\n",
       " '3_3': {'threshold': 0.6},\n",
       " '3_4': {'threshold': 0.27},\n",
       " '4_0': {'threshold': 0.47},\n",
       " '4_1': {'threshold': 0.63},\n",
       " '4_2': {'threshold': 0.11},\n",
       " '4_3': {'threshold': 0.16999999999999998},\n",
       " '4_4': {'threshold': 0.26},\n",
       " '5_0': {'threshold': 0.12},\n",
       " '5_1': {'threshold': 0.5700000000000001},\n",
       " '5_2': {'threshold': 0.1},\n",
       " '5_3': {'threshold': 0.16},\n",
       " '5_4': {'threshold': 0.05}}"
      ]
     },
     "execution_count": 112,
     "metadata": {},
     "output_type": "execute_result"
    }
   ],
   "source": [
    "bart_topic_thresholds"
   ]
  },
  {
   "cell_type": "code",
   "execution_count": 113,
   "id": "e78cb6e3-b3ae-4b78-a291-2bbcfd03b739",
   "metadata": {},
   "outputs": [],
   "source": [
    "test_df['normed_BART_topic'] = test_df[\"FSL_BART_topic\"].apply(lambda x: get_normed_scores(x, bart_topic_thresholds, inverse_claims))\n",
    "test_df['normed_BART_stance'] = test_df[\"FSL_BART_stance\"].apply(lambda x: get_normed_scores(x, bart_stance_thresholds, inverse_claims))\n",
    "test_df['avg_normed_BART_topic'] = test_df[\"normed_BART_topic\"].apply(lambda x: get_avg_normed_topic_scores(x, CLASSES_TOPIC, inverse_claims))\n",
    "test_df['pred_topic'] = test_df['avg_normed_BART_topic'].apply(get_topic_pred_multiclass)\n",
    "test_df['pred_stance'] = test_df.apply(lambda x: get_stance_pred(x['normed_BART_stance'], x['pred_topic'], claims_stance), axis=1)"
   ]
  },
  {
   "cell_type": "code",
   "execution_count": 114,
   "id": "b12b726d-a4b7-4a02-a692-3aae21d8592f",
   "metadata": {},
   "outputs": [
    {
     "name": "stdout",
     "output_type": "stream",
     "text": [
      "              precision    recall  f1-score   support\n",
      "\n",
      "          1A       0.77      0.74      0.75       160\n",
      "          1F       0.61      0.59      0.60        32\n",
      "          1N       0.15      0.39      0.22        28\n",
      "          2A       1.00      0.18      0.31        11\n",
      "          2F       0.78      0.92      0.85       123\n",
      "          2N       0.28      0.31      0.29        35\n",
      "          3A       0.76      0.35      0.48       183\n",
      "          3F       0.45      0.53      0.49        58\n",
      "          3N       0.13      0.55      0.21        44\n",
      "          4A       0.91      0.53      0.67       172\n",
      "          4F       0.76      0.78      0.77        45\n",
      "          4N       0.34      0.42      0.38        78\n",
      "          5A       0.75      0.53      0.62       189\n",
      "          5F       0.42      0.17      0.25        46\n",
      "          5N       0.16      0.27      0.20        45\n",
      "\n",
      "    accuracy                           0.54      1249\n",
      "   macro avg       0.55      0.48      0.47      1249\n",
      "weighted avg       0.66      0.54      0.57      1249\n",
      "\n"
     ]
    }
   ],
   "source": [
    "print(classification_report(test_df['topic_stance_annot'].to_list(), test_df['pred_stance'].to_list(), target_names=CLASSES_STANCE))"
   ]
  },
  {
   "cell_type": "code",
   "execution_count": 115,
   "id": "36aaf9b6-93ad-4931-a5c2-302c163f6bfb",
   "metadata": {},
   "outputs": [
    {
     "data": {
      "text/plain": [
       "457"
      ]
     },
     "execution_count": 115,
     "metadata": {},
     "output_type": "execute_result"
    }
   ],
   "source": [
    "datapoints = list()\n",
    "for k in bart_record:\n",
    "    if k in [\"1_4_0_1\"]:\n",
    "        continue\n",
    "    datapoints += bart_record[k]['texts']\n",
    "len(set(datapoints))"
   ]
  },
  {
   "cell_type": "code",
   "execution_count": null,
   "id": "e4ed51c9-89e6-42a6-a3a3-b31b686e1f09",
   "metadata": {},
   "outputs": [],
   "source": []
  },
  {
   "cell_type": "code",
   "execution_count": null,
   "id": "3367e96a-3882-4efb-904f-a1e7575a217d",
   "metadata": {},
   "outputs": [],
   "source": []
  },
  {
   "cell_type": "markdown",
   "id": "f8390c0c-6731-4c43-b34b-cb10db5af553",
   "metadata": {
    "tags": []
   },
   "source": [
    "### Depressive symptoms detection"
   ]
  },
  {
   "cell_type": "code",
   "execution_count": 5,
   "id": "3e9f2960-9da7-4def-b71c-777bd24a78c1",
   "metadata": {},
   "outputs": [],
   "source": [
    "test_df = pd.read_pickle('./data/depression/testing.pkl')"
   ]
  },
  {
   "cell_type": "code",
   "execution_count": 6,
   "id": "58a5d015-5499-4633-8631-5b3d17f925d8",
   "metadata": {},
   "outputs": [],
   "source": [
    "test_df = test_df.drop_duplicates(subset=[\"Sentence\"])"
   ]
  },
  {
   "cell_type": "code",
   "execution_count": 7,
   "id": "0f48fd4d-37b9-4715-8d6c-b447758dce5c",
   "metadata": {},
   "outputs": [],
   "source": [
    "CLASSES = [\n",
    "    '1', '2', '3', '4', '5', '6', '7', '8', '9', '10', '11', '12', '13', '14', '15', '16', \n",
    "    '17', '18', '19', '20', '21'\n",
    "]"
   ]
  },
  {
   "cell_type": "code",
   "execution_count": 8,
   "id": "dfcf526a-b9ba-401f-af1f-79dda50ddc65",
   "metadata": {},
   "outputs": [],
   "source": [
    "with open(\"./data/depression/claims.json\") as file:\n",
    "    claims = json.load(file)\n",
    "\n",
    "claims_descr = claims[\"class_descr\"]\n",
    "del claims[\"class_descr\"]"
   ]
  },
  {
   "cell_type": "code",
   "execution_count": 9,
   "id": "2857ef50-fb31-4fe4-95ac-de1785095e91",
   "metadata": {},
   "outputs": [],
   "source": [
    "inverse_claims = {claims[k]: k for k in claims}"
   ]
  },
  {
   "cell_type": "code",
   "execution_count": 10,
   "id": "e29343c1-dc96-451a-bb59-8f7bd68f55bf",
   "metadata": {},
   "outputs": [],
   "source": [
    "test_df[\"multi_annot\"] = test_df.apply(lambda x: [x[C + \"_annot\"] for C in CLASSES], axis=1)"
   ]
  },
  {
   "cell_type": "code",
   "execution_count": null,
   "id": "8c65d662-10ab-4d5b-a2ff-e4b0712bd919",
   "metadata": {},
   "outputs": [],
   "source": []
  },
  {
   "cell_type": "code",
   "execution_count": 11,
   "id": "823a4761-4b7e-42a7-86c5-e73460aad081",
   "metadata": {},
   "outputs": [],
   "source": [
    "def get_detected_claims(zsl_dict, thresholds, claims):\n",
    "    detected = list()\n",
    "    for claim_idx in claims:\n",
    "        if zsl_dict[claims[claim_idx]] >= thresholds[claim_idx]['threshold']:\n",
    "            detected.append(claim_idx)\n",
    "    return detected \n",
    "\n",
    "\n",
    "def get_pred(detected, classes):\n",
    "    preds = list()\n",
    "    for group in classes:\n",
    "        rel = [d for d in detected if d.split(\"_\")[0] == group]\n",
    "        if len(rel) > 0:\n",
    "            preds.append(1)\n",
    "        else:\n",
    "            preds.append(0)\n",
    "    return preds"
   ]
  },
  {
   "cell_type": "code",
   "execution_count": null,
   "id": "1feb69ad-170b-4792-be75-147efbbad1ce",
   "metadata": {},
   "outputs": [],
   "source": []
  },
  {
   "cell_type": "markdown",
   "id": "43786448-d7e8-4a30-a24c-ba8d0f37937a",
   "metadata": {
    "tags": []
   },
   "source": [
    "#### Baseline 1: Fine-tuned BERT"
   ]
  },
  {
   "cell_type": "code",
   "execution_count": 12,
   "id": "ff15f56c-6401-43a0-94e4-30c05f0a2445",
   "metadata": {},
   "outputs": [
    {
     "name": "stdout",
     "output_type": "stream",
     "text": [
      "              precision    recall  f1-score   support\n",
      "\n",
      "           1       0.68      0.56      0.62        64\n",
      "           2       0.00      0.00      0.00        28\n",
      "           3       1.00      0.19      0.32        31\n",
      "           4       0.28      0.76      0.40        29\n",
      "           5       0.00      0.00      0.00        16\n",
      "           6       0.00      0.00      0.00        13\n",
      "           7       0.83      0.16      0.26        32\n",
      "           8       0.00      0.00      0.00         3\n",
      "           9       0.00      0.00      0.00         7\n",
      "          10       0.00      0.00      0.00        15\n",
      "          11       0.00      0.00      0.00        10\n",
      "          12       0.00      0.00      0.00        11\n",
      "          13       0.00      0.00      0.00        10\n",
      "          14       1.00      0.06      0.12        16\n",
      "          15       0.00      0.00      0.00         4\n",
      "          16       0.00      0.00      0.00         2\n",
      "          17       0.00      0.00      0.00        20\n",
      "          18       0.00      0.00      0.00         1\n",
      "          19       0.00      0.00      0.00         5\n",
      "          20       1.00      0.14      0.25         7\n",
      "          21       0.00      0.00      0.00         0\n",
      "\n",
      "   micro avg       0.48      0.22      0.30       324\n",
      "   macro avg       0.23      0.09      0.09       324\n",
      "weighted avg       0.41      0.22      0.23       324\n",
      " samples avg       0.06      0.04      0.05       324\n",
      "\n"
     ]
    },
    {
     "name": "stderr",
     "output_type": "stream",
     "text": [
      "/Users/sandrinechausson/Documents/easyclaimsdetection/venv/lib/python3.9/site-packages/sklearn/metrics/_classification.py:1318: UndefinedMetricWarning: Precision and F-score are ill-defined and being set to 0.0 in labels with no predicted samples. Use `zero_division` parameter to control this behavior.\n",
      "  _warn_prf(average, modifier, msg_start, len(result))\n",
      "/Users/sandrinechausson/Documents/easyclaimsdetection/venv/lib/python3.9/site-packages/sklearn/metrics/_classification.py:1318: UndefinedMetricWarning: Recall and F-score are ill-defined and being set to 0.0 in labels with no true samples. Use `zero_division` parameter to control this behavior.\n",
      "  _warn_prf(average, modifier, msg_start, len(result))\n",
      "/Users/sandrinechausson/Documents/easyclaimsdetection/venv/lib/python3.9/site-packages/sklearn/metrics/_classification.py:1318: UndefinedMetricWarning: Precision and F-score are ill-defined and being set to 0.0 in samples with no predicted labels. Use `zero_division` parameter to control this behavior.\n",
      "  _warn_prf(average, modifier, msg_start, len(result))\n",
      "/Users/sandrinechausson/Documents/easyclaimsdetection/venv/lib/python3.9/site-packages/sklearn/metrics/_classification.py:1318: UndefinedMetricWarning: Recall and F-score are ill-defined and being set to 0.0 in samples with no true labels. Use `zero_division` parameter to control this behavior.\n",
      "  _warn_prf(average, modifier, msg_start, len(result))\n"
     ]
    }
   ],
   "source": [
    "print(classification_report(test_df['multi_annot'].to_list(), test_df['BERT_pred'].to_list(), target_names=CLASSES))"
   ]
  },
  {
   "cell_type": "code",
   "execution_count": null,
   "id": "7502f0ca-6a6f-4c0f-9099-b39d1935868d",
   "metadata": {},
   "outputs": [],
   "source": []
  },
  {
   "cell_type": "markdown",
   "id": "6b34170e-1baf-46fe-b7d9-822671e27b03",
   "metadata": {
    "tags": []
   },
   "source": [
    "#### Baseline 2: SBERT cosine similarity with threshold-tuning"
   ]
  },
  {
   "cell_type": "code",
   "execution_count": 12,
   "id": "92090a0f-e6e6-4c55-9661-3226665fd9c7",
   "metadata": {},
   "outputs": [],
   "source": [
    "with open('./data/bisection_records/D_SBERT.json') as file:\n",
    "    sbert_record = json.load(file)"
   ]
  },
  {
   "cell_type": "code",
   "execution_count": 13,
   "id": "ef1dad4e-a906-4de2-a070-2c42f70229d6",
   "metadata": {},
   "outputs": [],
   "source": [
    "sbert_thresholds = get_thresholds_from_record(sbert_record, start=-1, end=1)"
   ]
  },
  {
   "cell_type": "code",
   "execution_count": 14,
   "id": "ed8a9b65-6f78-45b0-8e21-424e834d804f",
   "metadata": {},
   "outputs": [],
   "source": [
    "test_df['detected'] = test_df['sbert_cosine'].apply(lambda x: get_detected_claims(x, sbert_thresholds, claims))\n",
    "test_df['pred_multi'] = test_df['detected'].apply(lambda x: get_pred(x, CLASSES))"
   ]
  },
  {
   "cell_type": "code",
   "execution_count": 15,
   "id": "43942b8d-7ee6-4eb6-a2d6-05dbafcec4dc",
   "metadata": {},
   "outputs": [
    {
     "name": "stdout",
     "output_type": "stream",
     "text": [
      "              precision    recall  f1-score   support\n",
      "\n",
      "           1       0.70      0.22      0.33        64\n",
      "           2       1.00      0.04      0.07        28\n",
      "           3       0.33      0.06      0.11        31\n",
      "           4       0.33      0.03      0.06        29\n",
      "           5       1.00      0.19      0.32        16\n",
      "           6       0.00      0.00      0.00        13\n",
      "           7       1.00      0.12      0.22        32\n",
      "           8       0.00      0.00      0.00         3\n",
      "           9       0.25      0.86      0.39         7\n",
      "          10       1.00      0.47      0.64        15\n",
      "          11       0.00      0.00      0.00        10\n",
      "          12       0.00      0.00      0.00        11\n",
      "          13       0.00      0.00      0.00        10\n",
      "          14       0.00      0.00      0.00        16\n",
      "          15       0.33      0.25      0.29         4\n",
      "          16       0.00      0.00      0.00         2\n",
      "          17       0.00      0.00      0.00        20\n",
      "          18       0.25      1.00      0.40         1\n",
      "          19       0.00      0.00      0.00         5\n",
      "          20       1.00      0.29      0.44         7\n",
      "          21       0.00      0.00      0.00         0\n",
      "\n",
      "   micro avg       0.52      0.13      0.21       324\n",
      "   macro avg       0.34      0.17      0.16       324\n",
      "weighted avg       0.51      0.13      0.18       324\n",
      " samples avg       0.03      0.02      0.03       324\n",
      "\n"
     ]
    },
    {
     "name": "stderr",
     "output_type": "stream",
     "text": [
      "/Users/sandrinechausson/Documents/easyclaimsdetection/venv/lib/python3.9/site-packages/sklearn/metrics/_classification.py:1318: UndefinedMetricWarning: Precision and F-score are ill-defined and being set to 0.0 in labels with no predicted samples. Use `zero_division` parameter to control this behavior.\n",
      "  _warn_prf(average, modifier, msg_start, len(result))\n",
      "/Users/sandrinechausson/Documents/easyclaimsdetection/venv/lib/python3.9/site-packages/sklearn/metrics/_classification.py:1318: UndefinedMetricWarning: Recall and F-score are ill-defined and being set to 0.0 in labels with no true samples. Use `zero_division` parameter to control this behavior.\n",
      "  _warn_prf(average, modifier, msg_start, len(result))\n",
      "/Users/sandrinechausson/Documents/easyclaimsdetection/venv/lib/python3.9/site-packages/sklearn/metrics/_classification.py:1318: UndefinedMetricWarning: Precision and F-score are ill-defined and being set to 0.0 in samples with no predicted labels. Use `zero_division` parameter to control this behavior.\n",
      "  _warn_prf(average, modifier, msg_start, len(result))\n",
      "/Users/sandrinechausson/Documents/easyclaimsdetection/venv/lib/python3.9/site-packages/sklearn/metrics/_classification.py:1318: UndefinedMetricWarning: Recall and F-score are ill-defined and being set to 0.0 in samples with no true labels. Use `zero_division` parameter to control this behavior.\n",
      "  _warn_prf(average, modifier, msg_start, len(result))\n"
     ]
    }
   ],
   "source": [
    "print(classification_report(test_df['multi_annot'].to_list(), test_df['pred_multi'].to_list(), target_names=CLASSES))"
   ]
  },
  {
   "cell_type": "code",
   "execution_count": 16,
   "id": "bb9680f6-af72-4bb1-ac8a-1d71aec84b15",
   "metadata": {},
   "outputs": [
    {
     "data": {
      "text/plain": [
       "241"
      ]
     },
     "execution_count": 16,
     "metadata": {},
     "output_type": "execute_result"
    }
   ],
   "source": [
    "datapoints = list()\n",
    "for k in sbert_record:\n",
    "    datapoints += sbert_record[k]['texts']\n",
    "len(set(datapoints))"
   ]
  },
  {
   "cell_type": "code",
   "execution_count": null,
   "id": "271740c2-2f2e-4b5d-b82b-46cc155d7619",
   "metadata": {},
   "outputs": [],
   "source": []
  },
  {
   "cell_type": "markdown",
   "id": "ee751993-06e9-4f47-b38f-10026f768374",
   "metadata": {
    "tags": []
   },
   "source": [
    "#### Baseline 3: BART MNLI model with unique threshold (Zero-Shot approach)"
   ]
  },
  {
   "cell_type": "code",
   "execution_count": 17,
   "id": "fa14ed96-00d4-4df2-a861-ce96f72cd458",
   "metadata": {},
   "outputs": [],
   "source": [
    "artificial_thresholds = {k: {'threshold': 0.5} for k in claims}"
   ]
  },
  {
   "cell_type": "code",
   "execution_count": 18,
   "id": "ca6042a9-37a3-4bdf-809d-08abb5409cfd",
   "metadata": {},
   "outputs": [],
   "source": [
    "test_df['detected'] = test_df['FSL_BART'].apply(lambda x: get_detected_claims(x, artificial_thresholds, claims))\n",
    "test_df['pred_multi'] = test_df['detected'].apply(lambda x: get_pred(x, CLASSES))"
   ]
  },
  {
   "cell_type": "code",
   "execution_count": 19,
   "id": "64a105ad-2305-4bf4-8563-77e84332be2d",
   "metadata": {},
   "outputs": [
    {
     "name": "stdout",
     "output_type": "stream",
     "text": [
      "              precision    recall  f1-score   support\n",
      "\n",
      "           1       0.15      1.00      0.26        64\n",
      "           2       0.06      0.89      0.11        28\n",
      "           3       0.05      0.97      0.10        31\n",
      "           4       0.01      0.28      0.03        29\n",
      "           5       0.04      0.94      0.08        16\n",
      "           6       0.02      1.00      0.04        13\n",
      "           7       0.07      1.00      0.13        32\n",
      "           8       0.00      1.00      0.01         3\n",
      "           9       0.16      0.43      0.23         7\n",
      "          10       0.08      0.87      0.14        15\n",
      "          11       0.06      0.80      0.12        10\n",
      "          12       0.08      0.73      0.14        11\n",
      "          13       0.01      0.80      0.03        10\n",
      "          14       0.07      1.00      0.12        16\n",
      "          15       0.00      0.50      0.01         4\n",
      "          16       0.05      0.50      0.09         2\n",
      "          17       0.12      0.80      0.20        20\n",
      "          18       0.00      0.00      0.00         1\n",
      "          19       0.02      1.00      0.05         5\n",
      "          20       0.02      0.86      0.04         7\n",
      "          21       0.00      0.00      0.00         0\n",
      "\n",
      "   micro avg       0.04      0.85      0.07       324\n",
      "   macro avg       0.05      0.73      0.09       324\n",
      "weighted avg       0.07      0.85      0.13       324\n",
      " samples avg       0.02      0.12      0.03       324\n",
      "\n"
     ]
    },
    {
     "name": "stderr",
     "output_type": "stream",
     "text": [
      "/Users/sandrinechausson/Documents/easyclaimsdetection/venv/lib/python3.9/site-packages/sklearn/metrics/_classification.py:1318: UndefinedMetricWarning: Recall and F-score are ill-defined and being set to 0.0 in labels with no true samples. Use `zero_division` parameter to control this behavior.\n",
      "  _warn_prf(average, modifier, msg_start, len(result))\n",
      "/Users/sandrinechausson/Documents/easyclaimsdetection/venv/lib/python3.9/site-packages/sklearn/metrics/_classification.py:1318: UndefinedMetricWarning: Precision and F-score are ill-defined and being set to 0.0 in samples with no predicted labels. Use `zero_division` parameter to control this behavior.\n",
      "  _warn_prf(average, modifier, msg_start, len(result))\n",
      "/Users/sandrinechausson/Documents/easyclaimsdetection/venv/lib/python3.9/site-packages/sklearn/metrics/_classification.py:1318: UndefinedMetricWarning: Recall and F-score are ill-defined and being set to 0.0 in samples with no true labels. Use `zero_division` parameter to control this behavior.\n",
      "  _warn_prf(average, modifier, msg_start, len(result))\n"
     ]
    }
   ],
   "source": [
    "print(classification_report(test_df['multi_annot'].to_list(), test_df['pred_multi'].to_list(), target_names=CLASSES))"
   ]
  },
  {
   "cell_type": "code",
   "execution_count": null,
   "id": "ba51b961-a57d-4833-8f7c-d5b06c76c9a6",
   "metadata": {},
   "outputs": [],
   "source": []
  },
  {
   "cell_type": "markdown",
   "id": "ce06e6c5-acc9-48c2-a1f9-7a4f35b34c4f",
   "metadata": {},
   "source": [
    "#### Baseline 4: BART MNLI model with Temperature Scaling"
   ]
  },
  {
   "cell_type": "code",
   "execution_count": 20,
   "id": "57285abe-ab93-4074-b1a2-0a9a5bac9932",
   "metadata": {},
   "outputs": [],
   "source": [
    "sample_sizes = [5, 10, 20, 40, 80, 160]"
   ]
  },
  {
   "cell_type": "code",
   "execution_count": 21,
   "id": "52a027be-5887-4bd8-89e4-ee0214027403",
   "metadata": {},
   "outputs": [],
   "source": [
    "artificial_thresholds = {k: {'threshold': 0.5} for k in claims}"
   ]
  },
  {
   "cell_type": "code",
   "execution_count": 22,
   "id": "d6e2b107-8bb9-473d-885a-49c78ef1d61b",
   "metadata": {},
   "outputs": [
    {
     "name": "stdout",
     "output_type": "stream",
     "text": [
      "5 : 0.153\n",
      "10 : 0.179\n",
      "20 : 0.194\n",
      "40 : 0.218\n",
      "80 : 0.252\n",
      "160 : 0.268\n"
     ]
    }
   ],
   "source": [
    "for samp_size in sample_sizes:\n",
    "    test_df['detected'] = test_df[\"Temp_Scaling_BART_\" + str(samp_size)].apply(lambda x: get_detected_claims(x, artificial_thresholds, claims))\n",
    "    test_df['pred_multi'] = test_df['detected'].apply(lambda x: get_pred(x, CLASSES))\n",
    "    print(samp_size, ': %.3f' % f1_score(test_df['multi_annot'].to_list(), test_df['pred_multi'].to_list(), average=\"micro\"))"
   ]
  },
  {
   "cell_type": "code",
   "execution_count": null,
   "id": "588e1742-6462-49d5-b282-9c793dfa48bd",
   "metadata": {},
   "outputs": [],
   "source": []
  },
  {
   "cell_type": "markdown",
   "id": "bb8f3949-4104-4dbd-8977-e5c4ece199ec",
   "metadata": {
    "tags": []
   },
   "source": [
    "#### Ours 1: Few-shots NLI approach using BART MNLI"
   ]
  },
  {
   "cell_type": "code",
   "execution_count": 23,
   "id": "ee733c5e-308b-4318-b26a-3e15917d7d41",
   "metadata": {},
   "outputs": [],
   "source": [
    "with open('./data/bisection_records/D_BART.json') as file:\n",
    "    bart_record = json.load(file)"
   ]
  },
  {
   "cell_type": "code",
   "execution_count": 24,
   "id": "9f26c10f-fc07-4407-bf70-ffd813432bb7",
   "metadata": {},
   "outputs": [],
   "source": [
    "bart_thresholds = get_thresholds_from_record(bart_record, start=0, end=1)"
   ]
  },
  {
   "cell_type": "code",
   "execution_count": 25,
   "id": "06e82aad-e8ce-4eac-b535-cd4fd26d8645",
   "metadata": {},
   "outputs": [],
   "source": [
    "test_df['detected'] = test_df['FSL_BART'].apply(lambda x: get_detected_claims(x, bart_thresholds, claims))\n",
    "test_df['pred_multi'] = test_df['detected'].apply(lambda x: get_pred(x, CLASSES))"
   ]
  },
  {
   "cell_type": "code",
   "execution_count": 26,
   "id": "a3b25e07-aa0c-4a3b-9be9-057f72dd1cb1",
   "metadata": {},
   "outputs": [
    {
     "name": "stdout",
     "output_type": "stream",
     "text": [
      "              precision    recall  f1-score   support\n",
      "\n",
      "           1       0.62      0.48      0.54        64\n",
      "           2       0.36      0.32      0.34        28\n",
      "           3       0.39      0.52      0.44        31\n",
      "           4       0.08      0.03      0.05        29\n",
      "           5       1.00      0.31      0.48        16\n",
      "           6       0.18      0.15      0.17        13\n",
      "           7       0.26      0.72      0.38        32\n",
      "           8       0.10      0.33      0.15         3\n",
      "           9       0.43      0.43      0.43         7\n",
      "          10       0.75      0.20      0.32        15\n",
      "          11       0.14      0.10      0.12        10\n",
      "          12       0.27      0.27      0.27        11\n",
      "          13       0.29      0.20      0.24        10\n",
      "          14       0.39      0.75      0.51        16\n",
      "          15       0.09      0.25      0.13         4\n",
      "          16       0.00      0.00      0.00         2\n",
      "          17       0.22      0.35      0.27        20\n",
      "          18       0.00      0.00      0.00         1\n",
      "          19       0.08      0.20      0.12         5\n",
      "          20       0.50      0.29      0.36         7\n",
      "          21       0.00      0.00      0.00         0\n",
      "\n",
      "   micro avg       0.33      0.38      0.35       324\n",
      "   macro avg       0.29      0.28      0.25       324\n",
      "weighted avg       0.39      0.38      0.35       324\n",
      " samples avg       0.05      0.06      0.05       324\n",
      "\n"
     ]
    },
    {
     "name": "stderr",
     "output_type": "stream",
     "text": [
      "/Users/sandrinechausson/Documents/easyclaimsdetection/venv/lib/python3.9/site-packages/sklearn/metrics/_classification.py:1318: UndefinedMetricWarning: Recall and F-score are ill-defined and being set to 0.0 in labels with no true samples. Use `zero_division` parameter to control this behavior.\n",
      "  _warn_prf(average, modifier, msg_start, len(result))\n",
      "/Users/sandrinechausson/Documents/easyclaimsdetection/venv/lib/python3.9/site-packages/sklearn/metrics/_classification.py:1318: UndefinedMetricWarning: Precision and F-score are ill-defined and being set to 0.0 in samples with no predicted labels. Use `zero_division` parameter to control this behavior.\n",
      "  _warn_prf(average, modifier, msg_start, len(result))\n",
      "/Users/sandrinechausson/Documents/easyclaimsdetection/venv/lib/python3.9/site-packages/sklearn/metrics/_classification.py:1318: UndefinedMetricWarning: Recall and F-score are ill-defined and being set to 0.0 in samples with no true labels. Use `zero_division` parameter to control this behavior.\n",
      "  _warn_prf(average, modifier, msg_start, len(result))\n"
     ]
    }
   ],
   "source": [
    "print(classification_report(test_df['multi_annot'].to_list(), test_df['pred_multi'].to_list(), target_names=CLASSES))"
   ]
  },
  {
   "cell_type": "code",
   "execution_count": 27,
   "id": "d631b252-0521-4a2e-9b95-9b653db411cc",
   "metadata": {},
   "outputs": [
    {
     "data": {
      "text/plain": [
       "277"
      ]
     },
     "execution_count": 27,
     "metadata": {},
     "output_type": "execute_result"
    }
   ],
   "source": [
    "datapoints = list()\n",
    "for k in bart_record:\n",
    "    if k in [\"1_4_0_1\"]:\n",
    "        continue\n",
    "    datapoints += bart_record[k]['texts']\n",
    "len(set(datapoints))"
   ]
  },
  {
   "cell_type": "code",
   "execution_count": null,
   "id": "c2616db1-e84b-4597-9d69-1e2eaa91db28",
   "metadata": {},
   "outputs": [],
   "source": []
  },
  {
   "cell_type": "code",
   "execution_count": null,
   "id": "1de45f7e-46c2-41a5-bb35-f7b5a38e7c7f",
   "metadata": {},
   "outputs": [],
   "source": []
  },
  {
   "cell_type": "markdown",
   "id": "318f3492-4acd-48b0-83ea-4696dcd8f397",
   "metadata": {
    "tags": []
   },
   "source": [
    "## Experiment 3: Using negated claims"
   ]
  },
  {
   "cell_type": "code",
   "execution_count": 53,
   "id": "7da18115-d393-489e-a64f-8a2efa000c87",
   "metadata": {},
   "outputs": [],
   "source": [
    "with open('./data/climate_change/claims_neg.json') as file:\n",
    "    claims_neg = json.load(file)"
   ]
  },
  {
   "cell_type": "code",
   "execution_count": 54,
   "id": "0926cc8f-a33f-421c-b423-a927a83ff747",
   "metadata": {},
   "outputs": [],
   "source": [
    "def normalise_nli_scores(row):\n",
    "    dict_pos = {k: row['FSL_BART'][claims[k]] for k in claims}\n",
    "    dict_neg = {k: row['FSL_BART_neg'][claims_neg[k]] for k in claims_neg}\n",
    "    new_dict = dict()\n",
    "    for k in dict_pos:\n",
    "        if dict_neg[k] > dict_pos[k]:\n",
    "            new_dict[claims[k]] = 0.0\n",
    "        else:\n",
    "            new_dict[claims[k]] = dict_pos[k]\n",
    "    return new_dict"
   ]
  },
  {
   "cell_type": "code",
   "execution_count": 55,
   "id": "7bb4dc0d-42be-4e1f-b348-6372853a7338",
   "metadata": {},
   "outputs": [],
   "source": [
    "test_df['FSL_BART_pos_and_neg'] = test_df.apply(normalise_nli_scores, axis=1)"
   ]
  },
  {
   "cell_type": "code",
   "execution_count": 56,
   "id": "454a701e-7602-497f-a1d9-122d38017e1a",
   "metadata": {},
   "outputs": [],
   "source": [
    "with open('./data/bisection_records/CCC_BART.json') as file:\n",
    "    bart_record = json.load(file)"
   ]
  },
  {
   "cell_type": "code",
   "execution_count": 57,
   "id": "60a1d2ad-9e2c-447f-94f0-1bda7ae5f758",
   "metadata": {},
   "outputs": [],
   "source": [
    "bart_thresholds = get_thresholds_from_record(bart_record, start=0, end=1)"
   ]
  },
  {
   "cell_type": "code",
   "execution_count": 58,
   "id": "ac7238b7-d5dd-40f0-9206-c6dcc04151d2",
   "metadata": {},
   "outputs": [],
   "source": [
    "test_df['pred_multi'] = test_df.apply(lambda x: get_multi_pred(x, 'FSL_BART_pos_and_neg', claims, thresholds=bart_thresholds), axis=1)"
   ]
  },
  {
   "cell_type": "code",
   "execution_count": 59,
   "id": "42cc50ec-0c45-4375-8669-55477742650b",
   "metadata": {},
   "outputs": [
    {
     "name": "stdout",
     "output_type": "stream",
     "text": [
      "              precision    recall  f1-score   support\n",
      "\n",
      "         1_1       0.70      0.58      0.64        36\n",
      "         1_2       0.82      0.75      0.78        12\n",
      "         1_3       0.60      0.75      0.67        48\n",
      "         1_4       0.83      0.64      0.73        70\n",
      "         1_6       0.94      0.62      0.75        24\n",
      "         1_7       0.52      0.65      0.58        34\n",
      "\n",
      "   micro avg       0.69      0.66      0.68       224\n",
      "   macro avg       0.74      0.67      0.69       224\n",
      "weighted avg       0.73      0.66      0.68       224\n",
      " samples avg       0.05      0.05      0.05       224\n",
      "\n"
     ]
    },
    {
     "name": "stderr",
     "output_type": "stream",
     "text": [
      "/Users/sandrinechausson/Documents/easyclaimsdetection/venv/lib/python3.9/site-packages/sklearn/metrics/_classification.py:1318: UndefinedMetricWarning: Precision and F-score are ill-defined and being set to 0.0 in samples with no predicted labels. Use `zero_division` parameter to control this behavior.\n",
      "  _warn_prf(average, modifier, msg_start, len(result))\n",
      "/Users/sandrinechausson/Documents/easyclaimsdetection/venv/lib/python3.9/site-packages/sklearn/metrics/_classification.py:1318: UndefinedMetricWarning: Recall and F-score are ill-defined and being set to 0.0 in samples with no true labels. Use `zero_division` parameter to control this behavior.\n",
      "  _warn_prf(average, modifier, msg_start, len(result))\n"
     ]
    }
   ],
   "source": [
    "print(classification_report(test_df['multi_annot'].to_list(), test_df['pred_multi'].to_list(), target_names=CLASSES))"
   ]
  },
  {
   "cell_type": "code",
   "execution_count": null,
   "id": "b8703c51-c24a-450f-8d1d-6367fbbc5387",
   "metadata": {},
   "outputs": [],
   "source": []
  },
  {
   "cell_type": "markdown",
   "id": "7ffcb7f0-2b13-4277-8fad-1add05297bb6",
   "metadata": {
    "tags": []
   },
   "source": [
    "## Experiment 4: Adding more claims"
   ]
  },
  {
   "cell_type": "code",
   "execution_count": 47,
   "id": "9c12bd8c-8d48-4bd1-9ac1-7d149d5bb0c2",
   "metadata": {},
   "outputs": [],
   "source": [
    "with open('./data/climate_change/claims_extras.json') as file:\n",
    "    claims_extras = json.load(file)\n",
    "    \n",
    "claims_w_extras = {**claims, **claims_extras}\n",
    "\n",
    "del claims_w_extras[\"class_descr\"]"
   ]
  },
  {
   "cell_type": "code",
   "execution_count": 48,
   "id": "0bd2f32d-9b7c-4f8a-8575-e5a7ab12cf23",
   "metadata": {},
   "outputs": [],
   "source": [
    "with open('./data/bisection_records/CCC_BART.json') as file:\n",
    "    bart_record = json.load(file)\n",
    "\n",
    "with open('./data/bisection_records/BART_extras.json') as file:\n",
    "    bart_record_extras = json.load(file)\n",
    "    \n",
    "bart_record_w_extras = {**bart_record, **bart_record_extras}"
   ]
  },
  {
   "cell_type": "code",
   "execution_count": 49,
   "id": "01a77146-8586-44ae-8e20-09623dcef66f",
   "metadata": {},
   "outputs": [],
   "source": [
    "bart_extras_thresholds = get_thresholds_from_record(bart_record_w_extras, start=0, end=1)"
   ]
  },
  {
   "cell_type": "code",
   "execution_count": 53,
   "id": "ea539add-e13e-46ec-a053-f01610375bd2",
   "metadata": {},
   "outputs": [],
   "source": [
    "test_df['pred_multi'] = test_df.apply(lambda x: get_multi_pred(x, 'FSL_BART_extras', claims_w_extras, thresholds=bart_extras_thresholds), axis=1)"
   ]
  },
  {
   "cell_type": "code",
   "execution_count": 54,
   "id": "2f68e555-f385-480d-9324-73e8373e2bc6",
   "metadata": {},
   "outputs": [
    {
     "name": "stdout",
     "output_type": "stream",
     "text": [
      "              precision    recall  f1-score   support\n",
      "\n",
      "         1_1       0.66      0.69      0.68        36\n",
      "         1_2       0.82      0.75      0.78        12\n",
      "         1_3       0.85      0.58      0.69        48\n",
      "         1_4       0.81      0.69      0.74        70\n",
      "         1_6       0.88      0.62      0.73        24\n",
      "         1_7       0.69      0.32      0.44        34\n",
      "\n",
      "   micro avg       0.78      0.61      0.68       224\n",
      "   macro avg       0.78      0.61      0.68       224\n",
      "weighted avg       0.78      0.61      0.68       224\n",
      " samples avg       0.05      0.05      0.05       224\n",
      "\n"
     ]
    },
    {
     "name": "stderr",
     "output_type": "stream",
     "text": [
      "/Users/sandrinechausson/Documents/easyclaimsdetection/venv/lib/python3.9/site-packages/sklearn/metrics/_classification.py:1318: UndefinedMetricWarning: Precision and F-score are ill-defined and being set to 0.0 in samples with no predicted labels. Use `zero_division` parameter to control this behavior.\n",
      "  _warn_prf(average, modifier, msg_start, len(result))\n",
      "/Users/sandrinechausson/Documents/easyclaimsdetection/venv/lib/python3.9/site-packages/sklearn/metrics/_classification.py:1318: UndefinedMetricWarning: Recall and F-score are ill-defined and being set to 0.0 in samples with no true labels. Use `zero_division` parameter to control this behavior.\n",
      "  _warn_prf(average, modifier, msg_start, len(result))\n"
     ]
    }
   ],
   "source": [
    "print(classification_report(test_df['multi_annot'].to_list(), test_df['pred_multi'].to_list(), target_names=CLASSES))"
   ]
  },
  {
   "cell_type": "code",
   "execution_count": null,
   "id": "f82505ab-7794-41ef-9126-05743f98fd54",
   "metadata": {},
   "outputs": [],
   "source": []
  },
  {
   "cell_type": "markdown",
   "id": "ce93e014-3009-4c54-8e27-9aa19cb7ec4a",
   "metadata": {
    "tags": []
   },
   "source": [
    "## Experiment 1: Changing the value of p for the Probabilistic Bisection"
   ]
  },
  {
   "cell_type": "markdown",
   "id": "43553dd9-4185-4884-891f-c823e2dd1b45",
   "metadata": {
    "tags": []
   },
   "source": [
    "### p = 0.6"
   ]
  },
  {
   "cell_type": "code",
   "execution_count": 70,
   "id": "a8d2897b-34ec-4203-b2bf-298bd391fd5e",
   "metadata": {},
   "outputs": [],
   "source": [
    "with open('./data/bisection_records/BART_0-6.json') as file:\n",
    "    bart_record = json.load(file)"
   ]
  },
  {
   "cell_type": "code",
   "execution_count": 71,
   "id": "ae2048d5-e6f0-452c-b01a-23c2fcb9d9f0",
   "metadata": {},
   "outputs": [],
   "source": [
    "bart_thresholds = get_thresholds_from_record(bart_record, start=0, end=1)"
   ]
  },
  {
   "cell_type": "code",
   "execution_count": 73,
   "id": "ed8c1d7e-39c3-484a-8b41-8e8cae94a907",
   "metadata": {},
   "outputs": [],
   "source": [
    "test_df['pred_multi'] = test_df.apply(lambda x: get_multi_pred(x, 'FSL_BART', claims, thresholds=bart_thresholds), axis=1)"
   ]
  },
  {
   "cell_type": "code",
   "execution_count": 74,
   "id": "e39dc50d-d7d4-4cb4-99ef-3fea1f3768d6",
   "metadata": {},
   "outputs": [
    {
     "name": "stdout",
     "output_type": "stream",
     "text": [
      "              precision    recall  f1-score   support\n",
      "\n",
      "         1_1       0.68      0.64      0.66        36\n",
      "         1_2       0.46      0.92      0.61        12\n",
      "         1_3       0.61      0.77      0.68        48\n",
      "         1_4       0.76      0.67      0.71        70\n",
      "         1_6       0.83      0.62      0.71        24\n",
      "         1_7       0.10      0.65      0.17        34\n",
      "\n",
      "   micro avg       0.37      0.69      0.48       224\n",
      "   macro avg       0.57      0.71      0.59       224\n",
      "weighted avg       0.60      0.69      0.61       224\n",
      " samples avg       0.05      0.06      0.05       224\n",
      "\n"
     ]
    },
    {
     "name": "stderr",
     "output_type": "stream",
     "text": [
      "/Users/sandrinechausson/Documents/easyclaimsdetection/venv/lib/python3.9/site-packages/sklearn/metrics/_classification.py:1318: UndefinedMetricWarning: Precision and F-score are ill-defined and being set to 0.0 in samples with no predicted labels. Use `zero_division` parameter to control this behavior.\n",
      "  _warn_prf(average, modifier, msg_start, len(result))\n",
      "/Users/sandrinechausson/Documents/easyclaimsdetection/venv/lib/python3.9/site-packages/sklearn/metrics/_classification.py:1318: UndefinedMetricWarning: Recall and F-score are ill-defined and being set to 0.0 in samples with no true labels. Use `zero_division` parameter to control this behavior.\n",
      "  _warn_prf(average, modifier, msg_start, len(result))\n"
     ]
    }
   ],
   "source": [
    "print(classification_report(test_df['multi_annot'].to_list(), test_df['pred_multi'].to_list(), target_names=CLASSES))"
   ]
  },
  {
   "cell_type": "code",
   "execution_count": null,
   "id": "c8574d3c-0942-4675-9971-36b4fd0f4603",
   "metadata": {},
   "outputs": [],
   "source": []
  },
  {
   "cell_type": "markdown",
   "id": "4023a2e7-a622-4922-b476-4a8f643571b4",
   "metadata": {
    "tags": []
   },
   "source": [
    "### p = 0.8"
   ]
  },
  {
   "cell_type": "code",
   "execution_count": 76,
   "id": "432f6022-e63c-4257-a2c1-0c9dadb5ab4f",
   "metadata": {},
   "outputs": [],
   "source": [
    "with open('./data/bisection_records/BART_0-8.json') as file:\n",
    "    bart_record = json.load(file)"
   ]
  },
  {
   "cell_type": "code",
   "execution_count": 77,
   "id": "8a1e9767-b615-4c34-ac2e-7b45c4f5952e",
   "metadata": {},
   "outputs": [],
   "source": [
    "bart_thresholds = get_thresholds_from_record(bart_record, start=0, end=1)"
   ]
  },
  {
   "cell_type": "code",
   "execution_count": 79,
   "id": "2a98047c-8c06-453b-8e91-dade03f12b3b",
   "metadata": {},
   "outputs": [],
   "source": [
    "test_df['pred_multi'] = test_df.apply(lambda x: get_multi_pred(x, 'FSL_BART', claims, thresholds=bart_thresholds), axis=1)"
   ]
  },
  {
   "cell_type": "code",
   "execution_count": 80,
   "id": "ea040ea3-adc9-45b7-b12c-ab74d9706b73",
   "metadata": {},
   "outputs": [
    {
     "name": "stdout",
     "output_type": "stream",
     "text": [
      "              precision    recall  f1-score   support\n",
      "\n",
      "         1_1       0.64      0.64      0.64        36\n",
      "         1_2       0.83      0.83      0.83        12\n",
      "         1_3       0.61      0.77      0.68        48\n",
      "         1_4       0.70      0.64      0.67        70\n",
      "         1_6       0.88      0.62      0.73        24\n",
      "         1_7       0.50      0.56      0.53        34\n",
      "\n",
      "   micro avg       0.65      0.67      0.66       224\n",
      "   macro avg       0.69      0.68      0.68       224\n",
      "weighted avg       0.67      0.67      0.66       224\n",
      " samples avg       0.05      0.05      0.05       224\n",
      "\n"
     ]
    },
    {
     "name": "stderr",
     "output_type": "stream",
     "text": [
      "/Users/sandrinechausson/Documents/easyclaimsdetection/venv/lib/python3.9/site-packages/sklearn/metrics/_classification.py:1318: UndefinedMetricWarning: Precision and F-score are ill-defined and being set to 0.0 in samples with no predicted labels. Use `zero_division` parameter to control this behavior.\n",
      "  _warn_prf(average, modifier, msg_start, len(result))\n",
      "/Users/sandrinechausson/Documents/easyclaimsdetection/venv/lib/python3.9/site-packages/sklearn/metrics/_classification.py:1318: UndefinedMetricWarning: Recall and F-score are ill-defined and being set to 0.0 in samples with no true labels. Use `zero_division` parameter to control this behavior.\n",
      "  _warn_prf(average, modifier, msg_start, len(result))\n"
     ]
    }
   ],
   "source": [
    "print(classification_report(test_df['multi_annot'].to_list(), test_df['pred_multi'].to_list(), target_names=CLASSES))"
   ]
  },
  {
   "cell_type": "code",
   "execution_count": null,
   "id": "23395f6d-c9bf-4d4a-8009-88da6bea5443",
   "metadata": {},
   "outputs": [],
   "source": []
  },
  {
   "cell_type": "markdown",
   "id": "48421ef0-08c3-4608-817c-c5332694a27b",
   "metadata": {
    "tags": []
   },
   "source": [
    "### p = 0.9"
   ]
  },
  {
   "cell_type": "code",
   "execution_count": 81,
   "id": "60574aa8-19fe-4c40-96e5-438e15262708",
   "metadata": {},
   "outputs": [],
   "source": [
    "with open('./data/bisection_records/BART_0-9.json') as file:\n",
    "    bart_record = json.load(file)"
   ]
  },
  {
   "cell_type": "code",
   "execution_count": 82,
   "id": "4596cc38-f06c-41ce-b94b-9c2a749f8727",
   "metadata": {},
   "outputs": [],
   "source": [
    "bart_thresholds = get_thresholds_from_record(bart_record, start=0, end=1)"
   ]
  },
  {
   "cell_type": "code",
   "execution_count": 83,
   "id": "2e79f015-7b27-4bf8-87f8-ba9842a31310",
   "metadata": {},
   "outputs": [],
   "source": [
    "test_df['pred_multi'] = test_df.apply(lambda x: get_multi_pred(x, 'FSL_BART', claims, thresholds=bart_thresholds), axis=1)"
   ]
  },
  {
   "cell_type": "code",
   "execution_count": 84,
   "id": "097e4585-c828-4aca-8661-49bcfe5d5756",
   "metadata": {},
   "outputs": [
    {
     "name": "stdout",
     "output_type": "stream",
     "text": [
      "              precision    recall  f1-score   support\n",
      "\n",
      "         1_1       0.64      0.69      0.67        36\n",
      "         1_2       0.89      0.67      0.76        12\n",
      "         1_3       0.60      0.75      0.67        48\n",
      "         1_4       0.84      0.61      0.71        70\n",
      "         1_6       0.88      0.62      0.73        24\n",
      "         1_7       0.51      0.68      0.58        34\n",
      "\n",
      "   micro avg       0.68      0.67      0.67       224\n",
      "   macro avg       0.73      0.67      0.69       224\n",
      "weighted avg       0.71      0.67      0.68       224\n",
      " samples avg       0.05      0.05      0.05       224\n",
      "\n"
     ]
    },
    {
     "name": "stderr",
     "output_type": "stream",
     "text": [
      "/Users/sandrinechausson/Documents/easyclaimsdetection/venv/lib/python3.9/site-packages/sklearn/metrics/_classification.py:1318: UndefinedMetricWarning: Precision and F-score are ill-defined and being set to 0.0 in samples with no predicted labels. Use `zero_division` parameter to control this behavior.\n",
      "  _warn_prf(average, modifier, msg_start, len(result))\n",
      "/Users/sandrinechausson/Documents/easyclaimsdetection/venv/lib/python3.9/site-packages/sklearn/metrics/_classification.py:1318: UndefinedMetricWarning: Recall and F-score are ill-defined and being set to 0.0 in samples with no true labels. Use `zero_division` parameter to control this behavior.\n",
      "  _warn_prf(average, modifier, msg_start, len(result))\n"
     ]
    }
   ],
   "source": [
    "print(classification_report(test_df['multi_annot'].to_list(), test_df['pred_multi'].to_list(), target_names=CLASSES))"
   ]
  },
  {
   "cell_type": "code",
   "execution_count": null,
   "id": "8c15294d-2848-49b6-a7e6-21578a7e69d9",
   "metadata": {},
   "outputs": [],
   "source": []
  },
  {
   "cell_type": "code",
   "execution_count": null,
   "id": "fae194ad-b6d7-4ed3-a5c1-723f2d8fa2f8",
   "metadata": {},
   "outputs": [],
   "source": []
  },
  {
   "cell_type": "markdown",
   "id": "c4cfe575-e018-4596-9882-dca729427108",
   "metadata": {},
   "source": [
    "## Experiment 2: Threshold-tuning on separate folds of the data"
   ]
  },
  {
   "cell_type": "code",
   "execution_count": 42,
   "id": "eaeec48e-241a-43ec-a396-bc0f984c7a32",
   "metadata": {},
   "outputs": [],
   "source": [
    "import seaborn as sns\n",
    "import matplotlib.pyplot as plt\n",
    "from matplotlib.ticker import MaxNLocator\n",
    "from matplotlib.lines import Line2D\n",
    "from matplotlib.patches import Patch\n",
    "import statistics"
   ]
  },
  {
   "cell_type": "code",
   "execution_count": null,
   "id": "ca87f4f0-6e4c-46d9-9780-f48499f79490",
   "metadata": {},
   "outputs": [],
   "source": []
  },
  {
   "cell_type": "code",
   "execution_count": 43,
   "id": "3cf98b88-5d59-4a47-9961-0e1905d7156c",
   "metadata": {},
   "outputs": [],
   "source": [
    "CLASSES = ['1_1', '1_2', '1_3', '1_4', '1_6', '1_7']"
   ]
  },
  {
   "cell_type": "code",
   "execution_count": 44,
   "id": "e686e152-2ef0-4baa-81a0-604ac5290f7b",
   "metadata": {},
   "outputs": [],
   "source": [
    "with open(\"./data/climate_change/claims.json\") as file:\n",
    "    claims = json.load(file)\n",
    "\n",
    "claims_descr = claims[\"class_descr\"]\n",
    "del claims[\"class_descr\"]"
   ]
  },
  {
   "cell_type": "code",
   "execution_count": 45,
   "id": "2c148696-a126-474d-bac4-a9f0bea841ce",
   "metadata": {},
   "outputs": [],
   "source": [
    "inverse_claims = {claims[k]: k for k in claims}"
   ]
  },
  {
   "cell_type": "code",
   "execution_count": 46,
   "id": "b99991e2-6918-4685-b33f-94559c705afa",
   "metadata": {},
   "outputs": [],
   "source": [
    "start = 0\n",
    "stop = 1\n",
    "step = 0.01\n",
    "x = np.arange(start, stop, step)\n",
    "\n",
    "def find_CI(distrib, low_mass=0.025, high_mass=0.975):\n",
    "    exp_f = np.exp(distrib)\n",
    "    alpha_low = exp_f.sum() * low_mass\n",
    "    alpha_high = exp_f.sum() * high_mass\n",
    "\n",
    "    try:\n",
    "        l_bound_low = x[exp_f.cumsum() <= alpha_low][-1]\n",
    "        l_low_weight = exp_f.cumsum()[int(l_bound_low * 100)]\n",
    "    except IndexError:\n",
    "        l_bound_low = start\n",
    "        l_low_weight = 0.0\n",
    "    try:\n",
    "        l_bound_high = x[::-1][exp_f[::-1].cumsum() <= alpha_high][-1]\n",
    "        l_high_weight = exp_f.cumsum()[int(l_bound_high * 100)]\n",
    "    except IndexError:\n",
    "        l_bound_high = stop\n",
    "        l_high_weight = 1.0\n",
    "    l_bound_avg = (l_bound_low + l_bound_high) / 2\n",
    "    if (l_bound_avg * 1000) % 10 != 0:\n",
    "        round_down = math.floor(int(l_bound_avg * 100))\n",
    "        round_up = math.ceil(int(l_bound_avg * 100))\n",
    "        l_weight = (exp_f.cumsum()[round_down] + exp_f.cumsum()[round_up]) / 2\n",
    "    else:\n",
    "        l_weight = exp_f.cumsum()[int(l_bound_avg * 100)]  \n",
    "        \n",
    "    try:\n",
    "        r_bound_low = x[exp_f.cumsum() <= alpha_high][-1]\n",
    "        r_low_weight = exp_f.cumsum()[int(r_bound_low * 100)]\n",
    "    except IndexError:\n",
    "        r_bound_low = start\n",
    "        r_low_weight = 0.0\n",
    "    try:\n",
    "        r_bound_high = x[::-1][exp_f[::-1].cumsum() <= alpha_low][-1]\n",
    "        r_high_weight = exp_f.cumsum()[int(r_bound_high * 100)]\n",
    "    except IndexError:\n",
    "        r_bound_high = stop\n",
    "        r_high_weight = 1.0\n",
    "    r_bound_avg = (r_bound_low + r_bound_high) / 2\n",
    "    if (r_bound_avg * 1000) % 10 != 0:\n",
    "        round_down = math.floor(int(r_bound_avg * 100))\n",
    "        round_up = math.ceil(int(r_bound_avg * 100))\n",
    "        r_weight = (exp_f.cumsum()[round_down] + exp_f.cumsum()[round_up]) / 2\n",
    "    else:\n",
    "        r_weight = exp_f.cumsum()[int(r_bound_avg * 100)]  \n",
    "\n",
    "    return l_bound_avg, r_bound_avg"
   ]
  },
  {
   "cell_type": "code",
   "execution_count": null,
   "id": "e3ed68cb-3fdf-4bc8-bfbe-fc03248e6bac",
   "metadata": {},
   "outputs": [],
   "source": []
  },
  {
   "cell_type": "code",
   "execution_count": 47,
   "id": "fde57b80-954d-4f89-a93c-43fc566ffaff",
   "metadata": {},
   "outputs": [],
   "source": [
    "with open('./data/bisection_records/BART_FOLD_1.json') as file:\n",
    "    record_1 = json.load(file)\n",
    "\n",
    "with open('./data/bisection_records/BART_FOLD_2.json') as file:\n",
    "    record_2 = json.load(file)\n",
    "\n",
    "with open('./data/bisection_records/BART_FOLD_3.json') as file:\n",
    "    record_3 = json.load(file)"
   ]
  },
  {
   "cell_type": "code",
   "execution_count": 48,
   "id": "84738b46-7d4f-4f83-a4c5-98f047899304",
   "metadata": {},
   "outputs": [],
   "source": [
    "CI_low_1 = list()\n",
    "CI_low_2 = list()\n",
    "CI_low_3 = list()\n",
    "\n",
    "CI_high_1 = list()\n",
    "CI_high_2 = list()\n",
    "CI_high_3 = list()\n",
    "\n",
    "medians_1 = list()\n",
    "medians_2 = list()\n",
    "medians_3 = list()\n",
    "\n",
    "nb_annots_1 = list()\n",
    "nb_annots_2 = list()\n",
    "nb_annots_3 = list()\n",
    "nb_annots_whole = list()\n",
    "\n",
    "for idx, trait in enumerate(sorted(claims)):\n",
    "    \n",
    "    median_1 = sum(find_CI(record_1[trait]['distributions'][-1], low_mass=0.5, high_mass=0.5))/2\n",
    "    median_2 = sum(find_CI(record_2[trait]['distributions'][-1], low_mass=0.5, high_mass=0.5))/2\n",
    "    median_3 = sum(find_CI(record_3[trait]['distributions'][-1], low_mass=0.5, high_mass=0.5))/2\n",
    "    \n",
    "    l_bound_1, r_bound_1 = find_CI(record_1[trait]['distributions'][-1], low_mass=0.05, high_mass=0.95)\n",
    "    l_bound_2, r_bound_2 = find_CI(record_2[trait]['distributions'][-1], low_mass=0.05, high_mass=0.95)\n",
    "    l_bound_3, r_bound_3 = find_CI(record_3[trait]['distributions'][-1], low_mass=0.05, high_mass=0.95)\n",
    "    \n",
    "    CI_low_1.append(median_1 - l_bound_1)\n",
    "    CI_low_2.append(median_2 - l_bound_2)\n",
    "    CI_low_3.append(median_3 - l_bound_3)\n",
    "    \n",
    "    CI_high_1.append(r_bound_1 - median_1)\n",
    "    CI_high_2.append(r_bound_2 - median_2)\n",
    "    CI_high_3.append(r_bound_3 - median_3)\n",
    "\n",
    "    medians_1.append(median_1)\n",
    "    medians_2.append(median_2)\n",
    "    medians_3.append(median_3)\n",
    "    \n",
    "    nb_annots_1.append(len(record_1[trait]['annot']))\n",
    "    nb_annots_2.append(len(record_2[trait]['annot']))\n",
    "    nb_annots_3.append(len(record_3[trait]['annot']))\n",
    "    \n",
    "asymmetric_error_1 = [CI_low_1, CI_high_1]\n",
    "asymmetric_error_2 = [CI_low_2, CI_high_2]\n",
    "asymmetric_error_3 = [CI_low_3, CI_high_3]"
   ]
  },
  {
   "cell_type": "code",
   "execution_count": 49,
   "id": "64902113-158b-4a9e-b200-a583dccb96e7",
   "metadata": {},
   "outputs": [],
   "source": [
    "converged_1 = list()\n",
    "for t, low_b, high_b in zip(claims, asymmetric_error_1[0], asymmetric_error_1[1]):\n",
    "    if (high_b + low_b) < 0.2:\n",
    "        converged_1.append(t)\n",
    "        \n",
    "converged_2 = list()\n",
    "for t, low_b, high_b in zip(claims, asymmetric_error_2[0], asymmetric_error_2[1]):\n",
    "    if (high_b + low_b) < 0.2:\n",
    "        converged_2.append(t)\n",
    "        \n",
    "converged_3 = list()\n",
    "for t, low_b, high_b in zip(claims, asymmetric_error_3[0], asymmetric_error_3[1]):\n",
    "    if (high_b + low_b) < 0.2:\n",
    "        converged_3.append(t)"
   ]
  },
  {
   "cell_type": "code",
   "execution_count": 50,
   "id": "9e52ab64-0e80-4479-96b9-cbbcc8d28a45",
   "metadata": {},
   "outputs": [],
   "source": [
    "median_val = list()\n",
    "for elements in zip(medians_1, medians_2, medians_3): \n",
    "    median_val.append(statistics.median(elements))\n",
    "median_val = np.array(median_val)"
   ]
  },
  {
   "cell_type": "code",
   "execution_count": 51,
   "id": "c212124c-f9f3-4b40-a6f2-cd1c80f869d9",
   "metadata": {},
   "outputs": [
    {
     "data": {
      "image/png": "[encoded data removed]",
      "text/plain": [
       "<Figure size 864x216 with 1 Axes>"
      ]
     },
     "metadata": {
      "needs_background": "light"
     },
     "output_type": "display_data"
    }
   ],
   "source": [
    "fig, ax = plt.subplots(figsize=(12,3))\n",
    "sns.despine(left=True)\n",
    "ax.xaxis.grid(False)\n",
    "ax.xaxis.set_major_locator(MaxNLocator(integer=True))\n",
    "ax.yaxis.grid(True)\n",
    "# ax.axhline(threshold, ls='--', color='dimgrey', label=\"Threshold\")\n",
    "ax.set_xlabel(\"Claim\", fontsize=14)\n",
    "ax.set_ylabel(\"Threshold\", fontsize=14)\n",
    "\n",
    "# title = trait.replace('_', '.') + ': ' + traits[trait]\n",
    "# ax.set_title(title, fontsize=14)\n",
    "\n",
    "# ax.spines['bottom'].set_color('lightgray')\n",
    "ax.set_ylim(-0.55, 0.55)\n",
    "\n",
    "medians_1_norm = np.array(medians_1) - median_val\n",
    "medians_2_norm = np.array(medians_2) - median_val\n",
    "medians_3_norm = np.array(medians_3) - median_val\n",
    "\n",
    "\n",
    "conv_1 = list()\n",
    "x_loc_conv_1 = list()\n",
    "not_conv_1 = list()\n",
    "x_loc_not_conv_1 = list()\n",
    "i = 0\n",
    "for t, m in zip(claims, medians_1_norm):\n",
    "    if t in converged_1:\n",
    "        conv_1.append(m)\n",
    "        x_loc_conv_1.append(i)\n",
    "    else:\n",
    "        not_conv_1.append(m)\n",
    "        x_loc_not_conv_1.append(i)\n",
    "    i+= 1\n",
    "    \n",
    "conv_2 = list()\n",
    "x_loc_conv_2 = list()\n",
    "not_conv_2 = list()\n",
    "x_loc_not_conv_2 = list()\n",
    "i = 0\n",
    "for t, m in zip(claims, medians_2_norm):\n",
    "    if t in converged_2:\n",
    "        conv_2.append(m)\n",
    "        x_loc_conv_2.append(i)\n",
    "    else:\n",
    "        not_conv_2.append(m)\n",
    "        x_loc_not_conv_2.append(i)\n",
    "    i += 1\n",
    "    \n",
    "conv_3 = list()\n",
    "x_loc_conv_3 = list()\n",
    "not_conv_3 = list()\n",
    "x_loc_not_conv_3 = list()\n",
    "i = 0\n",
    "for t, m in zip(claims, medians_3_norm):\n",
    "    if t in converged_3:\n",
    "        conv_3.append(m)\n",
    "        x_loc_conv_3.append(i)\n",
    "    else:\n",
    "        not_conv_3.append(m)\n",
    "        x_loc_not_conv_3.append(i)\n",
    "    i += 1\n",
    "\n",
    "ax.scatter(x_loc_conv_1, conv_1, c=\"lightcoral\")\n",
    "ax.scatter(x_loc_conv_2, conv_2, c=\"cornflowerblue\")\n",
    "ax.scatter(x_loc_conv_3, conv_3, c=\"yellowgreen\")\n",
    "\n",
    "ax.scatter(x_loc_not_conv_1, not_conv_1, c=\"lightcoral\", marker=\"x\")\n",
    "ax.scatter(x_loc_not_conv_2, not_conv_2, c=\"cornflowerblue\", marker=\"x\")\n",
    "ax.scatter(x_loc_not_conv_3, not_conv_3, c=\"yellowgreen\", marker=\"x\")\n",
    "\n",
    "ax.set_xticks([i -0.4 for i in range(len(claims))], list(claims.keys()), rotation=45)\n",
    "\n",
    "legend_elements = [\n",
    "    Patch(facecolor='lightcoral', label='Fold 1'),\n",
    "    Patch(facecolor='cornflowerblue', label='Fold 2'),\n",
    "    Patch(facecolor='yellowgreen', label='Fold 3'),\n",
    "    Line2D([0], [0], marker='o', color='w', label='Complete', markerfacecolor='black', markersize=10),\n",
    "    Line2D([0], [0], marker='x', color='black', label='Early stop', linestyle='', markerfacecolor='black', markersize=10),\n",
    "                   ]\n",
    "ax.legend(handles=legend_elements, loc='upper left', fontsize=12, bbox_to_anchor=(1, 0.75))\n",
    "plt.show()"
   ]
  },
  {
   "cell_type": "code",
   "execution_count": null,
   "id": "2aeeeb66-5de0-4cf3-aad7-41365b1ad73d",
   "metadata": {},
   "outputs": [],
   "source": []
  },
  {
   "cell_type": "code",
   "execution_count": 56,
   "id": "a5a5680c-cfaf-4671-a06a-2dae663680a8",
   "metadata": {},
   "outputs": [
    {
     "name": "stdout",
     "output_type": "stream",
     "text": [
      "1_1_0_0 \t0.220\n",
      "1_1_0_1 \t0.110\n",
      "1_1_0_2 \t0.080\n",
      "1_1_1_0 \t0.110\n",
      "1_1_1_1 \t0.180\n",
      "1_1_2_0 \t0.130\n",
      "1_1_2_1 \t0.210\n",
      "1_1_3_0 \t0.170\n",
      "1_1_3_1 \t0.120\n",
      "1_1_4_0 \t0.170\n",
      "1_1_4_1 \t0.120\n",
      "1_2_0_0 \t0.170\n",
      "1_2_0_1 \t0.080\n",
      "1_3_0_0 \t0.110\n",
      "1_3_0_1 \t0.050 \tCONVERGED\n",
      "1_3_0_2 \t0.240\n",
      "1_3_0_3 \t0.250\n",
      "1_3_0_4 \t0.080 \tCONVERGED\n",
      "1_3_0_5 \t0.220\n",
      "1_4_0_0 \t0.070\n",
      "1_4_0_1 \t0.130\n",
      "1_6_0_0 \t0.160\n",
      "1_6_0_1 \t0.100 \tCONVERGED\n",
      "1_6_0_2 \t0.200\n",
      "1_6_0_3 \t0.050\n",
      "1_6_0_4 \t0.280\n",
      "1_7_0_0 \t0.120 \tCONVERGED\n",
      "1_7_0_1 \t0.010 \tCONVERGED\n",
      "1_7_0_2 \t0.130\n",
      "1_7_0_3 \t0.020\n"
     ]
    }
   ],
   "source": [
    "all_diffs = list()\n",
    "all_diffs_CLAIM = list()\n",
    "\n",
    "conv_diffs = list()\n",
    "conv_diffs_CLAIM = list()\n",
    "\n",
    "not_conv_diffs = list()\n",
    "not_conv_diffs_CLAIM = list()\n",
    "\n",
    "mixed_diffs = list()\n",
    "mixed_diffs_CLAIM = list()\n",
    "\n",
    "for t, m_1, m_2, m_3 in zip(claims, medians_1, medians_2, medians_3):\n",
    "    diff = max([m_1, m_2, m_3]) - min([m_1, m_2, m_3])\n",
    "    all_diffs.append(diff)\n",
    "    all_diffs_CLAIM.append(t)\n",
    "    if t in converged_1 and t in converged_2 and t in converged_3: \n",
    "        print(t, \"\\t%0.3f\" % diff, \"\\tCONVERGED\")\n",
    "        conv_diffs.append(diff)\n",
    "        conv_diffs_CLAIM.append(t)\n",
    "    elif not t in converged_1 and not t in converged_2 and not t in converged_3:\n",
    "        print(t, \"\\t%0.3f\" % diff)\n",
    "        not_conv_diffs.append(diff)\n",
    "        not_conv_diffs_CLAIM.append(t)\n",
    "    else:\n",
    "        print(t, \"\\t%0.3f\" % diff)\n",
    "        mixed_diffs.append(diff)\n",
    "        mixed_diffs_CLAIM.append(t)"
   ]
  },
  {
   "cell_type": "code",
   "execution_count": null,
   "id": "2835f400-7e05-43d4-b3a0-a92e5bdce5ca",
   "metadata": {},
   "outputs": [],
   "source": []
  },
  {
   "cell_type": "markdown",
   "id": "03de0f62-855f-4b1f-ac9f-713b5fc1c1a6",
   "metadata": {},
   "source": [
    "### All claims"
   ]
  },
  {
   "cell_type": "code",
   "execution_count": 57,
   "id": "40abf0f7-a55d-4735-bc3d-c288d48b64c5",
   "metadata": {},
   "outputs": [
    {
     "name": "stdout",
     "output_type": "stream",
     "text": [
      "MAX:\t 0.28\n",
      "MIN:\t 0.01\n",
      "AVG:\t 0.14\n",
      "STD:\t 0.07\n"
     ]
    }
   ],
   "source": [
    "print(\"MAX:\\t %.2f\" % max(all_diffs))\n",
    "print(\"MIN:\\t %.2f\" % min(all_diffs))\n",
    "print(\"AVG:\\t %.2f\" % (sum(all_diffs)/len(all_diffs)))\n",
    "print(\"STD:\\t %.2f\" % np.std(all_diffs))"
   ]
  },
  {
   "cell_type": "markdown",
   "id": "8ffa4bb0-2462-49d7-81d8-73227174cad9",
   "metadata": {},
   "source": [
    "### Claims for which threshol-tuning is \"complete\" on all three folds"
   ]
  },
  {
   "cell_type": "code",
   "execution_count": 60,
   "id": "cfb2acaf-d8fc-40c4-9f66-4d494f81960a",
   "metadata": {},
   "outputs": [
    {
     "name": "stdout",
     "output_type": "stream",
     "text": [
      "MAX:\t 0.12\n",
      "MIN:\t 0.01\n",
      "AVG:\t 0.07\n",
      "STD:\t 0.04\n"
     ]
    }
   ],
   "source": [
    "print(\"MAX:\\t %.2f\" % max(conv_diffs))\n",
    "print(\"MIN:\\t %.2f\" % min(conv_diffs))\n",
    "print(\"AVG:\\t %.2f\" % (sum(conv_diffs)/len(conv_diffs)))\n",
    "print(\"STD:\\t %.2f\" % np.std(conv_diffs))"
   ]
  },
  {
   "cell_type": "markdown",
   "id": "0319f528-3517-4681-98e5-1ca38bc48ecd",
   "metadata": {},
   "source": [
    "### Claims for which threshol-tuning is \"complete\" on all none of the folds"
   ]
  },
  {
   "cell_type": "code",
   "execution_count": 58,
   "id": "2312f2bb-a39e-4253-8bfe-3f071d278cab",
   "metadata": {},
   "outputs": [
    {
     "name": "stdout",
     "output_type": "stream",
     "text": [
      "MAX:\t 0.28\n",
      "MIN:\t 0.05\n",
      "AVG:\t 0.16\n",
      "STD:\t 0.06\n"
     ]
    }
   ],
   "source": [
    "print(\"MAX:\\t %.2f\" % max(not_conv_diffs))\n",
    "print(\"MIN:\\t %.2f\" % min(not_conv_diffs))\n",
    "print(\"AVG:\\t %.2f\" % (sum(not_conv_diffs)/len(not_conv_diffs)))\n",
    "print(\"STD:\\t %.2f\" % np.std(not_conv_diffs))"
   ]
  },
  {
   "cell_type": "markdown",
   "id": "17505e77-7bde-4201-961a-fc3cdb5c2b4d",
   "metadata": {},
   "source": [
    "### Claims for which threshol-tuning is \"complete\" on some but not all of the three folds"
   ]
  },
  {
   "cell_type": "code",
   "execution_count": 59,
   "id": "13cbc271-ffb9-42d3-8b6e-4e7ebe22f623",
   "metadata": {},
   "outputs": [
    {
     "name": "stdout",
     "output_type": "stream",
     "text": [
      "MAX:\t 0.11\n",
      "MIN:\t 0.02\n",
      "AVG:\t 0.07\n",
      "STD:\t 0.04\n"
     ]
    }
   ],
   "source": [
    "print(\"MAX:\\t %.2f\" % max(mixed_diffs))\n",
    "print(\"MIN:\\t %.2f\" % min(mixed_diffs))\n",
    "print(\"AVG:\\t %.2f\" % (sum(mixed_diffs)/len(mixed_diffs)))\n",
    "print(\"STD:\\t %.2f\" % np.std(mixed_diffs))"
   ]
  },
  {
   "cell_type": "code",
   "execution_count": null,
   "id": "018f8f3c-c51b-44a7-ad7f-234ab8bb70b7",
   "metadata": {},
   "outputs": [],
   "source": []
  }
 ],
 "metadata": {
  "kernelspec": {
   "display_name": "Python 3 (ipykernel)",
   "language": "python",
   "name": "python3"
  },
  "language_info": {
   "codemirror_mode": {
    "name": "ipython",
    "version": 3
   },
   "file_extension": ".py",
   "mimetype": "text/x-python",
   "name": "python",
   "nbconvert_exporter": "python",
   "pygments_lexer": "ipython3",
   "version": "3.9.7"
  }
 },
 "nbformat": 4,
 "nbformat_minor": 5
}
