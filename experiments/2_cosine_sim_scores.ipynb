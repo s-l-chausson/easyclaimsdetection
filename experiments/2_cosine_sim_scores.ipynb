{
 "cells": [
  {
   "cell_type": "code",
   "execution_count": 1,
   "id": "6906a3f5-2ca0-40cc-9e4c-e2b94d2efe48",
   "metadata": {},
   "outputs": [
    {
     "data": {
      "text/plain": [
       "'/Users/sandrinechausson/Documents/easyclaimsdetection'"
      ]
     },
     "execution_count": 1,
     "metadata": {},
     "output_type": "execute_result"
    }
   ],
   "source": [
    "import os\n",
    "os.chdir(\"..\")\n",
    "os.getcwd()"
   ]
  },
  {
   "cell_type": "code",
   "execution_count": 13,
   "id": "d6038cb6-b33d-4767-8506-93123939a966",
   "metadata": {},
   "outputs": [],
   "source": [
    "import os\n",
    "import json\n",
    "import pandas as pd\n",
    "from tqdm import tqdm\n",
    "\n",
    "from sentence_transformers import SentenceTransformer\n",
    "import torch\n",
    "from torch.cuda import is_available\n",
    "from numpy import dot\n",
    "from numpy.linalg import norm"
   ]
  },
  {
   "cell_type": "code",
   "execution_count": null,
   "id": "735428e0-1597-4c74-95fe-f221ccdff761",
   "metadata": {},
   "outputs": [],
   "source": []
  },
  {
   "cell_type": "markdown",
   "id": "a6dd1754-c5dd-492b-9368-a2bbd3dc4ee0",
   "metadata": {},
   "source": [
    "# Get NLI scores"
   ]
  },
  {
   "cell_type": "code",
   "execution_count": 14,
   "id": "7a621cb0-f81b-4a43-bdf2-2d75126b2fa4",
   "metadata": {},
   "outputs": [],
   "source": [
    "config_list = [\n",
    "    {\n",
    "        'PATH': \"./data/climate_change/\",\n",
    "        'NAME': \"CCC\",\n",
    "        'SOURCE_COLUMN': \"text\",\n",
    "        'TARGET_COLUMN': 'sbert_cosine',\n",
    "    }, {\n",
    "        'PATH': \"./data/topic_stance/\",\n",
    "        'NAME': \"TS_topic\",\n",
    "        'SOURCE_COLUMN': \"Tweet\",\n",
    "        'TARGET_COLUMN': 'sbert_cosine',\n",
    "    }, {\n",
    "        'PATH': \"./data/topic_stance/\",\n",
    "        'NAME': \"TS_stance\",\n",
    "        'SOURCE_COLUMN': \"Tweet\",\n",
    "        'TARGET_COLUMN': 'sbert_cosine',\n",
    "    }, {\n",
    "        'PATH': \"./data/depression/\",\n",
    "        'NAME': \"D_BART\",\n",
    "        'SOURCE_COLUMN': \"Sentence\",\n",
    "        'TARGET_COLUMN': 'sbert_cosine',\n",
    "    }\n",
    "]"
   ]
  },
  {
   "cell_type": "code",
   "execution_count": 15,
   "id": "ad1fd728-88a4-45b6-ae9d-1f164f85ee99",
   "metadata": {},
   "outputs": [
    {
     "name": "stdout",
     "output_type": "stream",
     "text": [
      "\t* 0 :\t CCC\n",
      "\t* 1 :\t TS_topic\n",
      "\t* 2 :\t TS_stance\n",
      "\t* 3 :\t D_BART\n"
     ]
    }
   ],
   "source": [
    "for i, config in enumerate(config_list):\n",
    "    print('\\t*', i, ':\\t', config['NAME'])"
   ]
  },
  {
   "cell_type": "code",
   "execution_count": 16,
   "id": "b7e78498-9da7-42e8-9285-e911a314e26a",
   "metadata": {},
   "outputs": [
    {
     "name": "stdout",
     "output_type": "stream",
     "text": [
      "CCC\n"
     ]
    }
   ],
   "source": [
    "config_index = 0\n",
    "config = config_list[config_index]\n",
    "print(config['NAME'])"
   ]
  },
  {
   "cell_type": "code",
   "execution_count": null,
   "id": "933dddfa-04a9-4c27-b0af-ad2475e40608",
   "metadata": {},
   "outputs": [],
   "source": []
  },
  {
   "cell_type": "markdown",
   "id": "11fe2416-120c-4dcb-a650-052533087417",
   "metadata": {},
   "source": [
    "## Helper functions"
   ]
  },
  {
   "cell_type": "code",
   "execution_count": 17,
   "id": "cc08f139-8955-4ec9-a0f8-0a7d54a5a6a9",
   "metadata": {},
   "outputs": [],
   "source": [
    "class SBERT_Classifier:\n",
    "\n",
    "    def __init__(self, model_name, source_column, column_name='sbert_embedding'):\n",
    "        if model_name is None:\n",
    "            model_name = 'all-mpnet-base-v2'\n",
    "        use_cuda = is_available()\n",
    "        if use_cuda:\n",
    "            print('Using GPU')\n",
    "            self.classifier = SentenceTransformer(model_name, device='cuda')\n",
    "        else:\n",
    "            print(\"Using CPU\")\n",
    "            self.classifier = SentenceTransformer(model_name)\n",
    "        self.target_column = column_name\n",
    "        self.source_column = source_column\n",
    "\n",
    "    def df_apply_sbert(self, sub_df):\n",
    "        texts = sub_df[self.source_column].to_list()\n",
    "        embeddings = list(self.classifier.encode(texts))\n",
    "        # results = [{t: e} for t, e in zip(texts, embeddings)]\n",
    "        sub_df[self.target_column] = embeddings\n",
    "        return sub_df\n",
    "\n",
    "\n",
    "    def run(self, dataframe):\n",
    "        number_lines = len(dataframe)\n",
    "        chunksize = 16\n",
    "        already_done = pd.DataFrame().reindex(columns=dataframe.columns)\n",
    "        start_line = 0\n",
    "\n",
    "        for i in tqdm(range(start_line, number_lines, chunksize)):\n",
    "\n",
    "            sub_df = dataframe.iloc[i: i + chunksize]\n",
    "            sub_df = self.df_apply_sbert(sub_df)\n",
    "            already_done = already_done.append(sub_df)\n",
    "\n",
    "        return already_done"
   ]
  },
  {
   "cell_type": "code",
   "execution_count": null,
   "id": "ddfd8792-0cfa-44bf-b567-af7ae5ea50e6",
   "metadata": {},
   "outputs": [],
   "source": []
  },
  {
   "cell_type": "markdown",
   "id": "eeb85b26-bab2-4200-8038-b35841487050",
   "metadata": {},
   "source": [
    "## Load data"
   ]
  },
  {
   "cell_type": "code",
   "execution_count": 18,
   "id": "e673a5bc-4606-40bd-9fc2-1582faacd390",
   "metadata": {},
   "outputs": [],
   "source": [
    "train_df = pd.read_pickle(os.path.join(config['PATH'], 'training.pkl'))\n",
    "test_df = pd.read_pickle(os.path.join(config['PATH'], 'testing.pkl'))"
   ]
  },
  {
   "cell_type": "code",
   "execution_count": 19,
   "id": "4dc2ba45-0cff-470e-95cf-c66e28950c9d",
   "metadata": {},
   "outputs": [],
   "source": [
    "if config['NAME'] == \"TS_topic\": \n",
    "    with open(os.path.join(config['PATH'], 'claims_topic.json')) as file:\n",
    "        claims = json.load(file)\n",
    "        \n",
    "elif config['NAME'] == \"TS_stance\": \n",
    "    with open(os.path.join(config['PATH'], 'claims_stance.json')) as file:\n",
    "        claims = json.load(file)\n",
    "        \n",
    "else:\n",
    "    with open(os.path.join(config['PATH'], 'claims.json')) as file:\n",
    "        claims = json.load(file)\n",
    "\n",
    "class_descr = claims[\"class_descr\"]\n",
    "del claims[\"class_descr\"]"
   ]
  },
  {
   "cell_type": "code",
   "execution_count": 20,
   "id": "2c879f07-2774-4100-b674-265327bf11ba",
   "metadata": {},
   "outputs": [
    {
     "name": "stdout",
     "output_type": "stream",
     "text": [
      "Using CPU\n"
     ]
    }
   ],
   "source": [
    "classifier = SBERT_Classifier(None, source_column=config['SOURCE_COLUMN'])"
   ]
  },
  {
   "cell_type": "code",
   "execution_count": null,
   "id": "2586fa75-f81d-43c6-aa77-63666335e586",
   "metadata": {},
   "outputs": [],
   "source": []
  },
  {
   "cell_type": "markdown",
   "id": "5a915136-6423-4dda-ab11-fbfa65d7dfae",
   "metadata": {},
   "source": [
    "## Run NLI model"
   ]
  },
  {
   "cell_type": "code",
   "execution_count": null,
   "id": "2f896275-e144-45bb-87d6-85f3cda86164",
   "metadata": {},
   "outputs": [],
   "source": [
    "df_train_proc = classifier.run(df_train, os.path.join(config[\"PATH\", \"training.csv\"]))"
   ]
  },
  {
   "cell_type": "code",
   "execution_count": null,
   "id": "af87258e-a751-4744-a16e-6515f3960464",
   "metadata": {},
   "outputs": [],
   "source": [
    "df_test_proc = classifier.run(df_test, os.path.join(config[\"PATH\", \"testing.csv\"]))"
   ]
  },
  {
   "cell_type": "code",
   "execution_count": null,
   "id": "b0244a79-966a-4001-aee7-abfecf30bd4e",
   "metadata": {},
   "outputs": [],
   "source": []
  },
  {
   "cell_type": "markdown",
   "id": "5bf57919-bdc0-4ba7-8bd9-cd559d822486",
   "metadata": {},
   "source": [
    "## Get claims' embeddings"
   ]
  },
  {
   "cell_type": "code",
   "execution_count": 21,
   "id": "b111dc69-bbee-4637-bf10-96cade658569",
   "metadata": {},
   "outputs": [],
   "source": [
    "embeddings = list(classifier.classifier.encode(list(claims.values())))"
   ]
  },
  {
   "cell_type": "code",
   "execution_count": 24,
   "id": "fddff92e-c018-42e8-8289-0222ecba0106",
   "metadata": {},
   "outputs": [],
   "source": [
    "claims_embs = dict()\n",
    "\n",
    "for claim, emb in zip(claims, embeddings):\n",
    "    claims_embs[claim] = emb"
   ]
  },
  {
   "cell_type": "code",
   "execution_count": null,
   "id": "13a80c2a-62b8-4547-90d6-b2b086f2ecd1",
   "metadata": {},
   "outputs": [],
   "source": []
  },
  {
   "cell_type": "markdown",
   "id": "d7643c8b-ec6d-40fd-b62d-1cbaa1e584f7",
   "metadata": {},
   "source": [
    "## Calculate cosine similarity"
   ]
  },
  {
   "cell_type": "code",
   "execution_count": null,
   "id": "a12b09f8-1f0e-4d63-a74e-2e137c32bf13",
   "metadata": {},
   "outputs": [],
   "source": [
    "def get_cosine_sim(embedding, claims, claims_embs):\n",
    "    results = dict()\n",
    "    for c in claims:\n",
    "        results[claims[c]] = cosine_similarity(claims_embs[c], embedding)\n",
    "    return results\n",
    "\n",
    "def cosine_similarity(a, b):\n",
    "    return dot(a, b)/(norm(a)*norm(b))"
   ]
  },
  {
   "cell_type": "code",
   "execution_count": null,
   "id": "b43de04c-cf1e-4bfd-912b-33f169eb4639",
   "metadata": {},
   "outputs": [],
   "source": [
    "df_train_proc[config['TARGET_COLUMN']] = df_train_proc[\"sbert_embedding\"].apply(lambda x: get_cosine_sim_per_topic_claim(x, claims, claims_embs))"
   ]
  },
  {
   "cell_type": "code",
   "execution_count": null,
   "id": "f3d7bf47-cf85-47a2-a909-4f2e90d6d57b",
   "metadata": {},
   "outputs": [],
   "source": [
    "df_test_proc[config['TARGET_COLUMN']] = df_test_proc[\"sbert_embedding\"].apply(lambda x: get_cosine_sim_per_topic_claim(x, claims, claims_embs))"
   ]
  },
  {
   "cell_type": "code",
   "execution_count": null,
   "id": "49c05944-a4f8-4f20-b21d-4ce9a4abcf97",
   "metadata": {},
   "outputs": [],
   "source": []
  },
  {
   "cell_type": "markdown",
   "id": "a8c25233-fa5a-440e-8f92-110e9a470cb4",
   "metadata": {},
   "source": [
    "## Save files"
   ]
  },
  {
   "cell_type": "code",
   "execution_count": null,
   "id": "2eaa390a-be27-466a-b84b-d0921de39682",
   "metadata": {},
   "outputs": [],
   "source": [
    "df_train_proc.to_pickle(os.path.join(config[\"PATH\", \"training.pkl\"]))"
   ]
  },
  {
   "cell_type": "code",
   "execution_count": null,
   "id": "a48e38bc-6882-4f9b-bd24-fd9ce63ed767",
   "metadata": {},
   "outputs": [],
   "source": [
    "df_test_proc.to_pickle(os.path.join(config[\"PATH\", \"testing.pkl\"]))"
   ]
  },
  {
   "cell_type": "code",
   "execution_count": null,
   "id": "96c083ad-96b5-4092-8322-c24eb20b6466",
   "metadata": {},
   "outputs": [],
   "source": []
  }
 ],
 "metadata": {
  "kernelspec": {
   "display_name": "Python 3 (ipykernel)",
   "language": "python",
   "name": "python3"
  },
  "language_info": {
   "codemirror_mode": {
    "name": "ipython",
    "version": 3
   },
   "file_extension": ".py",
   "mimetype": "text/x-python",
   "name": "python",
   "nbconvert_exporter": "python",
   "pygments_lexer": "ipython3",
   "version": "3.9.7"
  }
 },
 "nbformat": 4,
 "nbformat_minor": 5
}
