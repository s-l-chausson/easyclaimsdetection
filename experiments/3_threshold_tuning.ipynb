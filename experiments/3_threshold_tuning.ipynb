{
 "cells": [
  {
   "cell_type": "code",
   "execution_count": 1,
   "id": "60467867-b915-4921-83cb-2e732fdb193f",
   "metadata": {},
   "outputs": [],
   "source": [
    "import os\n",
    "os.chdir('..')"
   ]
  },
  {
   "cell_type": "code",
   "execution_count": 2,
   "id": "6f942794-2f01-40d1-be58-63fca21cbb43",
   "metadata": {},
   "outputs": [],
   "source": [
    "import json\n",
    "import pandas as pd\n",
    "from annotator import BissectionAnnotator"
   ]
  },
  {
   "cell_type": "markdown",
   "id": "694441b7-4bda-4fab-94e5-87abd9ee037b",
   "metadata": {},
   "source": [
    "# Active Learning annotation using the Probabilistic Bisection Algorithm"
   ]
  },
  {
   "cell_type": "code",
   "execution_count": 3,
   "id": "ad92884f-1966-431a-b91b-579f1e132af9",
   "metadata": {},
   "outputs": [],
   "source": [
    "config_list = [\n",
    "    {\n",
    "        'PATH': \"./data/climate_change\",\n",
    "        'NAME': 'CCC_BART',\n",
    "        'COLUMN_NAME': 'FSL_BART',\n",
    "        'START': 0,\n",
    "        'END': 1,\n",
    "        'P': 0.7,\n",
    "    }, {\n",
    "        'PATH': \"./data/topic_stance\",\n",
    "        'NAME': 'TS_BART_topic',\n",
    "        'COLUMN_NAME': 'FSL_BART_topic',\n",
    "        'START': 0,\n",
    "        'END': 1,\n",
    "        'P': 0.7,\n",
    "    }, {\n",
    "        'PATH': \"./data/topic_stance\",\n",
    "        'NAME': 'TS_BART_stance',\n",
    "        'COLUMN_NAME': 'FSL_BART_stance',\n",
    "        'START': 0,\n",
    "        'END': 1,\n",
    "        'P': 0.7,\n",
    "    }, {\n",
    "        'PATH': \"./data/depression\",\n",
    "        'NAME': 'D_BART',\n",
    "        'COLUMN_NAME': 'FSL_BART',\n",
    "        'START': 0,\n",
    "        'END': 1,\n",
    "        'P': 0.7,\n",
    "    }, {\n",
    "        'PATH': \"./data/climate_change\",\n",
    "        'NAME': 'CCC_SBERT',\n",
    "        'COLUMN_NAME': 'sbert_cosine',\n",
    "        'START': -1,\n",
    "        'END': 1,\n",
    "        'P': 0.7,\n",
    "    }, {\n",
    "        'PATH': \"./data/topic_stance\",\n",
    "        'NAME': 'TS_SBERT_topic',\n",
    "        'COLUMN_NAME': 'sbert_cosine_topic',\n",
    "        'START': -1,\n",
    "        'END': 1,\n",
    "        'P': 0.7,\n",
    "    }, {\n",
    "        'PATH': \"./data/topic_stance\",\n",
    "        'NAME': 'TS_SBERT_stance',\n",
    "        'COLUMN_NAME': 'sbert_cosine_stance',\n",
    "        'START': -1,\n",
    "        'END': 1,\n",
    "        'P': 0.7,\n",
    "    }, {\n",
    "        'PATH': \"./data/depression\",\n",
    "        'NAME': 'D_SBERT',\n",
    "        'COLUMN_NAME': 'sbert_cosine',\n",
    "        'START': -1,\n",
    "        'END': 1,\n",
    "        'P': 0.7,\n",
    "    }, {\n",
    "        'PATH': \"./data/climate_change\",\n",
    "        'NAME': 'BART_0-6',\n",
    "        'COLUMN_NAME': 'FSL_BART',\n",
    "        'START': 0,\n",
    "        'END': 1,\n",
    "        'P': 0.6,\n",
    "    }, {\n",
    "        'PATH': \"./data/climate_change\",\n",
    "        'NAME': 'BART_0-8',\n",
    "        'COLUMN_NAME': 'FSL_BART',\n",
    "        'START': 0,\n",
    "        'END': 1,\n",
    "        'P': 0.8,\n",
    "    }, {\n",
    "        'PATH': \"./data/climate_change\",\n",
    "        'NAME': 'BART_0-9',\n",
    "        'COLUMN_NAME': 'FSL_BART',\n",
    "        'START': 0,\n",
    "        'END': 1,\n",
    "        'P': 0.9,        \n",
    "    }, {\n",
    "        'PATH': \"./data/climate_change\",\n",
    "        'NAME': 'BART_fold_1',\n",
    "        'COLUMN_NAME': 'FSL_BART',\n",
    "        'START': 0,\n",
    "        'END': 1,\n",
    "        'P': 0.7,        \n",
    "    }, {\n",
    "        'PATH': \"./data/climate_change\",\n",
    "        'NAME': 'BART_fold_2',\n",
    "        'COLUMN_NAME': 'FSL_BART',\n",
    "        'START': 0,\n",
    "        'END': 1,\n",
    "        'P': 0.7,        \n",
    "    }, {\n",
    "        'PATH': \"./data/climate_change\",\n",
    "        'NAME': 'BART_fold_3',\n",
    "        'COLUMN_NAME': 'FSL_BART',\n",
    "        'START': 0,\n",
    "        'END': 1,\n",
    "        'P': 0.7,        \n",
    "    }, {\n",
    "        'PATH': \"./data/climate_change\",\n",
    "        'NAME': 'BART_neg',\n",
    "        'COLUMN_NAME': 'FSL_BART_pos_and_neg',\n",
    "        'START': 0,\n",
    "        'END': 1,\n",
    "        'P': 0.7,       \n",
    "    }, {\n",
    "        'PATH': \"./data/climate_change\",\n",
    "        'NAME': 'BART_extras',\n",
    "        'COLUMN_NAME': 'FSL_BART_extras',\n",
    "        'START': 0,\n",
    "        'END': 1,\n",
    "        'P': 0.7,\n",
    "    }\n",
    "]"
   ]
  },
  {
   "cell_type": "code",
   "execution_count": 4,
   "id": "7d852996-675c-4bac-8eb2-966bfd0457ce",
   "metadata": {},
   "outputs": [
    {
     "name": "stdout",
     "output_type": "stream",
     "text": [
      "\t* 0 :\t CCC_BART\n",
      "\t* 1 :\t TS_BART_topic\n",
      "\t* 2 :\t TS_BART_stance\n",
      "\t* 3 :\t D_BART\n",
      "\t* 4 :\t CCC_SBERT\n",
      "\t* 5 :\t TS_SBERT_topic\n",
      "\t* 6 :\t TS_SBERT_stance\n",
      "\t* 7 :\t D_SBERT\n",
      "\t* 8 :\t BART_0-6\n",
      "\t* 9 :\t BART_0-8\n",
      "\t* 10 :\t BART_0-9\n",
      "\t* 11 :\t BART_fold_1\n",
      "\t* 12 :\t BART_fold_2\n",
      "\t* 13 :\t BART_fold_3\n",
      "\t* 14 :\t BART_neg\n",
      "\t* 15 :\t BART_extras\n"
     ]
    }
   ],
   "source": [
    "for i, config in enumerate(config_list):\n",
    "    print('\\t*', i, ':\\t', config['NAME'])"
   ]
  },
  {
   "cell_type": "code",
   "execution_count": 47,
   "id": "3277ecdb-5650-4d82-b138-3b9ab4a98230",
   "metadata": {},
   "outputs": [
    {
     "name": "stdout",
     "output_type": "stream",
     "text": [
      "BART_fold_2\n"
     ]
    }
   ],
   "source": [
    "config_index = 12\n",
    "config = config_list[config_index]\n",
    "print(config['NAME'])"
   ]
  },
  {
   "cell_type": "markdown",
   "id": "05df77d5-0158-40db-a7aa-a91d85233224",
   "metadata": {},
   "source": [
    "## Load data"
   ]
  },
  {
   "cell_type": "code",
   "execution_count": 48,
   "id": "76670c43-61b7-4053-b76d-5635d34c4509",
   "metadata": {},
   "outputs": [],
   "source": [
    "if config['NAME'] == 'BART_fold_1':       \n",
    "    train_df = pd.read_pickle(os.path.join(config['PATH'], 'training_fold_1.pkl'))\n",
    "elif config['NAME'] == 'BART_fold_2':       \n",
    "    train_df = pd.read_pickle(os.path.join(config['PATH'], 'training_fold_2.pkl'))\n",
    "elif config['NAME'] == 'BART_fold_3':       \n",
    "    train_df = pd.read_pickle(os.path.join(config['PATH'], 'training_fold_3.pkl'))\n",
    "else:\n",
    "    train_df = pd.read_pickle(os.path.join(config['PATH'], 'training.pkl'))"
   ]
  },
  {
   "cell_type": "code",
   "execution_count": 49,
   "id": "5178543f-9e46-4c40-a1c2-522a0aab6e53",
   "metadata": {},
   "outputs": [
    {
     "data": {
      "text/plain": [
       "7812"
      ]
     },
     "execution_count": 49,
     "metadata": {},
     "output_type": "execute_result"
    }
   ],
   "source": [
    "len(train_df)"
   ]
  },
  {
   "cell_type": "code",
   "execution_count": null,
   "id": "e61ac6ef-90f0-4a1d-a1e0-122a3dda6bc9",
   "metadata": {},
   "outputs": [],
   "source": []
  },
  {
   "cell_type": "code",
   "execution_count": 50,
   "id": "0407e13f-12fc-4da5-8180-f2d76cf04290",
   "metadata": {},
   "outputs": [
    {
     "data": {
      "text/plain": [
       "0_0    5420\n",
       "5_1     456\n",
       "5_2     330\n",
       "2_1     252\n",
       "1_4     170\n",
       "1_7     141\n",
       "2_3     124\n",
       "3_2     123\n",
       "1_1     115\n",
       "4_1     115\n",
       "3_3     106\n",
       "4_4      91\n",
       "1_3      74\n",
       "3_1      64\n",
       "1_2      62\n",
       "4_2      59\n",
       "1_6      55\n",
       "4_5      55\n",
       "Name: claim, dtype: int64"
      ]
     },
     "execution_count": 50,
     "metadata": {},
     "output_type": "execute_result"
    }
   ],
   "source": [
    "train_df[\"claim\"].value_counts()"
   ]
  },
  {
   "cell_type": "code",
   "execution_count": null,
   "id": "e8238be5-48a2-4cb2-a800-fc88023af1e8",
   "metadata": {},
   "outputs": [],
   "source": []
  },
  {
   "cell_type": "code",
   "execution_count": 51,
   "id": "f497f7e1-aece-4eb4-9056-a0b1594b5bb6",
   "metadata": {},
   "outputs": [],
   "source": [
    "if config['NAME'] == 'BART_extras':       \n",
    "    with open(os.path.join(config['PATH'], 'claims_extras.json')) as file:\n",
    "        claims = json.load(file)\n",
    "elif config['NAME'] in ['TS_BART_topic', 'TS_SBERT_topic']: \n",
    "    with open(os.path.join(config['PATH'], 'claims_topic.json')) as file:\n",
    "        claims = json.load(file)\n",
    "elif config['NAME'] in ['TS_BART_stance', 'TS_SBERT_stance']: \n",
    "    with open(os.path.join(config['PATH'], 'claims_stance.json')) as file:\n",
    "        claims = json.load(file)\n",
    "else:\n",
    "    with open(os.path.join(config['PATH'], 'claims.json')) as file:\n",
    "        claims = json.load(file)\n",
    "        \n",
    "    if config['NAME'] == 'BART_neg':\n",
    "        with open(os.path.join(config['PATH'], 'claims_neg.json')) as file:\n",
    "            claims_neg = json.load(file)  \n",
    "            \n",
    "class_descr = claims[\"class_descr\"]"
   ]
  },
  {
   "cell_type": "code",
   "execution_count": null,
   "id": "3be22368-1aec-410a-9615-e47ae88267ff",
   "metadata": {},
   "outputs": [],
   "source": []
  },
  {
   "cell_type": "code",
   "execution_count": null,
   "id": "ab45a84a-fe2f-47d3-b152-c1d2dc4b6c7d",
   "metadata": {},
   "outputs": [],
   "source": []
  },
  {
   "cell_type": "markdown",
   "id": "020190e6-64dc-4f97-8e79-1e583b2f1f40",
   "metadata": {},
   "source": [
    "## Normalise entailment scores for BART_neg"
   ]
  },
  {
   "cell_type": "code",
   "execution_count": 39,
   "id": "52575b2d-1970-45d5-8cef-f2b18b8bb9f3",
   "metadata": {},
   "outputs": [],
   "source": [
    "def normalise_nli_scores(row):\n",
    "    dict_pos = {k: row['FSL_BART'][claims[k]] for k in claims if k != \"class_descr\"}\n",
    "    dict_neg = {k: row['FSL_BART_neg'][claims_neg[k]] for k in claims_neg}\n",
    "    new_dict = dict()\n",
    "    for k in dict_pos:\n",
    "        if dict_neg[k] > dict_pos[k]:\n",
    "            new_dict[claims[k]] = 0.0\n",
    "        else:\n",
    "            new_dict[claims[k]] = dict_pos[k]\n",
    "    return new_dict"
   ]
  },
  {
   "cell_type": "code",
   "execution_count": 40,
   "id": "7ee9ba74-cb53-4114-bd5a-dd9e499fdca5",
   "metadata": {},
   "outputs": [],
   "source": [
    "if config['NAME'] == 'BART_neg':\n",
    "    train_df[config['COLUMN_NAME']] = train_df.apply(normalise_nli_scores, axis=1)"
   ]
  },
  {
   "cell_type": "markdown",
   "id": "d9f5f87b-1666-4820-a92e-f500e81f1b30",
   "metadata": {},
   "source": [
    "## Annotate"
   ]
  },
  {
   "cell_type": "code",
   "execution_count": 41,
   "id": "4e0bc341-ce27-4921-99f4-a0b3d5fccbf5",
   "metadata": {},
   "outputs": [],
   "source": [
    "annotator = BissectionAnnotator(train_df, config['START'], config['END'], step=0.01, p=config['P'], level='class', sleep_time=1, verbose=0)"
   ]
  },
  {
   "cell_type": "code",
   "execution_count": 42,
   "id": "c289bf44-e79b-497a-818f-e323cea3d785",
   "metadata": {},
   "outputs": [],
   "source": [
    "record = dict()"
   ]
  },
  {
   "cell_type": "code",
   "execution_count": 43,
   "id": "515097aa-a054-4b0c-b87b-592de24f1e75",
   "metadata": {},
   "outputs": [],
   "source": [
    "from tqdm import tqdm"
   ]
  },
  {
   "cell_type": "code",
   "execution_count": 44,
   "id": "907f8393-087c-49a0-b0fa-463f82e5aeb7",
   "metadata": {},
   "outputs": [
    {
     "name": "stderr",
     "output_type": "stream",
     "text": [
      "100%|███████████████████████████████████████████████████████████████████████████████| 31/31 [06:07<00:00, 11.84s/it]\n"
     ]
    }
   ],
   "source": [
    "for claim_idx in tqdm(claims):\n",
    "    if claim_idx in record:\n",
    "        continue\n",
    "    if claim_idx == \"class_descr\":\n",
    "        continue\n",
    "    claims_text = claims[claim_idx]\n",
    "    if config['NAME'] in [\"CCC_BART\", \"CCC_SBERT\", \"BART_0-6\", \"BART_0-8\", \"BART_0-9\", \"BART_fold_1\", \"BART_fold_2\", \"BART_fold_3\", \"BART_neg\", \"BART_extras\"]:\n",
    "        df, threshold, prob_distr = annotator(claim_idx, claims_text, claim_idx[:3], class_descr[claim_idx[:3]], column=config['COLUMN_NAME'])\n",
    "    elif config['NAME'] in [\"TS_BART_topic\", \"TS_SBERT_topic\"]:\n",
    "        df, threshold, prob_distr = annotator(claim_idx, claims_text, claim_idx[:1], class_descr[claim_idx[:1]], column=config['COLUMN_NAME'], text_column=\"Tweet\")\n",
    "    elif config['NAME'] in [\"TS_BART_stance\", \"TS_SBERT_stance\"]:\n",
    "        df, threshold, prob_distr = annotator(claim_idx, claims_text, claim_idx[:2], class_descr[claim_idx[:2]], column=config['COLUMN_NAME'], text_column=\"Tweet\")\n",
    "    elif config['NAME'] in [\"D_BART\", \"D_SBERT\"]:\n",
    "        df, threshold, prob_distr = annotator(claim_idx, claims_text, claim_idx.split(\"_\")[0], class_descr[claim_idx.split(\"_\")[0]], column=config['COLUMN_NAME'], text_column=\"Sentence\")\n",
    "    record[claim_idx] = threshold"
   ]
  },
  {
   "cell_type": "code",
   "execution_count": 46,
   "id": "84172a87-b915-4b30-8890-7e985d719682",
   "metadata": {},
   "outputs": [],
   "source": [
    "with open(os.path.join(\"./data/bisection_records\",  config['NAME'] + '.json'), \"w\") as file:\n",
    "    json.dump(record, file)"
   ]
  },
  {
   "cell_type": "code",
   "execution_count": null,
   "id": "33c18e15-8a78-442b-963b-09874f7ef33d",
   "metadata": {},
   "outputs": [],
   "source": []
  }
 ],
 "metadata": {
  "kernelspec": {
   "display_name": "Python 3 (ipykernel)",
   "language": "python",
   "name": "python3"
  },
  "language_info": {
   "codemirror_mode": {
    "name": "ipython",
    "version": 3
   },
   "file_extension": ".py",
   "mimetype": "text/x-python",
   "name": "python",
   "nbconvert_exporter": "python",
   "pygments_lexer": "ipython3",
   "version": "3.9.7"
  }
 },
 "nbformat": 4,
 "nbformat_minor": 5
}
